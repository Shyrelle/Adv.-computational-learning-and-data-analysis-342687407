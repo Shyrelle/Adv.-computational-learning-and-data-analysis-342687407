{
  "cells": [
    {
      "cell_type": "markdown",
      "metadata": {
        "id": "n3aXk1o_qRLu"
      },
      "source": [
        "# PyTorch - the Basics!\n",
        "\n",
        "Advanced Learning 2024\n",
        "\n",
        "Lee Carlin"
      ]
    },
    {
      "cell_type": "markdown",
      "metadata": {
        "id": "O88JcDDEeVKl"
      },
      "source": [
        "For SUBMISSION:\n",
        "~~~\n",
        "STUDENT ID: 342687407\n",
        "~~~\n",
        "~~~\n",
        "STUDENT GIT LINK: https://github.com/Shyrelle/Adv.-computational-learning-and-data-analysis-342687407\n",
        "~~~\n",
        "In Addition, don't forget to add your ID to the files:\n",
        "`PS0_PyTorch_basics_2024_ID_[342687407].ipynb`  \n",
        "`PS0_PyTorch_basics_2024_ID_[342687407].html`  "
      ]
    },
    {
      "cell_type": "markdown",
      "metadata": {
        "id": "fCByaAJ1q-Gc"
      },
      "source": [
        "## 1. What is PyTorch?\n",
        "\n",
        "\n",
        "PyTorch is a popular open-source library for machine learning, particularly well-suited for deep learning applications.    \n",
        "Here's a breakdown of its key features:\n",
        "\n",
        "    \n",
        "\n",
        "*   **Deep Learning Framework:**  PyTorch provides tools and functionalities to  build and train complex neural networks.\n",
        "*   **Pythonic Interface:**  Known for its Python-like syntax, PyTorch is considered user-friendly and easy to learn.\n",
        "* **Flexibility:**  PyTorch offers both dynamic computational graphs (eager execution) and static graphs (graph mode) for model development.\n",
        "* **Production Ready:**  PyTorch provides features like TorchScript to transition models from development to production seamlessly.\n",
        "* **Scalability:**  PyTorch supports distributed training, enabling you to leverage multiple CPUs or GPUs to train models faster.\n",
        "* **Rich Ecosystem:**  A growing ecosystem of libraries and tools built on PyTorch expands its capabilities for tasks like computer vision, natural language processing, and model interpretability.\n",
        "\n",
        "\n",
        "\n",
        "\n",
        "    \n",
        "    \n",
        "\n",
        "    \n",
        "\n",
        "    \n",
        "    \n",
        "\n"
      ]
    },
    {
      "cell_type": "markdown",
      "metadata": {
        "id": "Y0NFG56arhsD"
      },
      "source": [
        "We start by importing PyTorch's main objects:"
      ]
    },
    {
      "cell_type": "code",
      "execution_count": null,
      "metadata": {
        "id": "phCzuWkUqPRk"
      },
      "outputs": [],
      "source": [
        "import torch\n",
        "from torch import nn"
      ]
    },
    {
      "cell_type": "markdown",
      "metadata": {
        "id": "jL-emQP0xtkr"
      },
      "source": [
        "### PyTorch Main Modules"
      ]
    },
    {
      "cell_type": "markdown",
      "metadata": {
        "id": "AKs60PcGucH7"
      },
      "source": [
        "`torch.nn`:\n",
        "\n",
        "In PyTorch, the `torch.nn` module provides the essential building blocks you need to construct and train neural networks. It offers a comprehensive collection of classes and functions that streamline the deep learning development process.  \n",
        "  \n",
        "*Key Components:*  \n",
        "\n",
        "**Modules**:   \n",
        "These are the fundamental units that perform specific operations on data. They can be combined to create complex neural network architectures. Common examples include:   \n",
        "\n",
        "* Linear Layers (nn.Linear): Apply linear transformations (y = xA^T + b) for feeding data forward through the network.\n",
        "* Convolutional Layers (nn.Conv2d): Perform convolutions, especially useful for processing image data.\n",
        "* Activation Layers (nn.ReLU, nn.Sigmoid): Introduce non-linearity into the network, allowing it to learn complex patterns.\n",
        "* Normalization Layers (nn.BatchNorm2d): Normalize inputs to layers for faster and more stable training.\n",
        "* Recurrent Layers (nn.LSTM, nn.GRU): Handle sequential data like text or time series.\n",
        "* Dropout Layers (nn.Dropout): Introduce randomness by randomly dropping out neurons during training to prevent overfitting.\n",
        "* Many More: PyTorch offers a vast selection of modules catering to diverse neural network architectures.\n",
        "\n",
        "**Containers**:   \n",
        "These classes help you organize and structure your modules into hierarchical networks. They include:\n",
        "* nn.Sequential: Stacks modules in a linear sequence, making it easy to define simple neural networks.\n",
        "* nn.ModuleList: Holds other modules in a list, allowing for more flexible network structures.\n",
        "* nn.ModuleDict: Manages sub-modules with dictionary-like access for complex topologies.\n",
        "\n",
        "**Loss Functions:**   \n",
        "Functions that measure the error between the network's predictions and the ground truth labels. These guide the training process by calculating the gradients used to update the network's weights. Common examples include:\n",
        "* nn.CrossEntropyLoss: For multi-class classification problems.\n",
        "* nn.MSELoss: For mean squared error calculations in regression tasks.\n",
        "\n"
      ]
    },
    {
      "cell_type": "code",
      "execution_count": null,
      "metadata": {
        "id": "Tw5uR0na0s8J"
      },
      "outputs": [],
      "source": [
        "from torch.utils.data import DataLoader\n"
      ]
    },
    {
      "cell_type": "markdown",
      "metadata": {
        "id": "YzHi6U5zvteu"
      },
      "source": [
        "`torch.utils.data.DataLoader`:\n",
        "\n",
        "In PyTorch, `torch.utils.data.DataLoader` is a powerful tool that simplifies how you load and manage data for training your deep learning models. It acts as an iterator, efficiently providing batches of data during the training process.\n",
        "\n",
        "Here's a breakdown of its key functionalities:\n",
        "\n",
        "Data Management Abstraction:\n",
        "\n",
        "    Decouples data loading logic from your model training code, promoting cleaner and more maintainable code.\n",
        "    Handles complexities like batching, shuffling, and multi-processing data loading, freeing you from writing repetitive code.\n",
        "\n",
        "Efficient Batching:\n",
        "\n",
        "    Groups data samples (images, text, etc.) into batches of a specified size (batch_size). Batching improves computational efficiency by utilizing vectorized operations on GPUs.\n",
        "    Provides an optional collate_fn argument that allows you to customize how samples within a batch are combined. This can be useful for tasks like padding sequences to have the same length."
      ]
    },
    {
      "cell_type": "code",
      "execution_count": null,
      "metadata": {
        "colab": {
          "base_uri": "https://localhost:8080/",
          "height": 35
        },
        "id": "sbHK6GkR0vIH",
        "outputId": "dc727bad-6501-4fcf-9c2d-6f7b36179fb4"
      },
      "outputs": [
        {
          "output_type": "execute_result",
          "data": {
            "text/plain": [
              "'2.5.0+cu121'"
            ],
            "application/vnd.google.colaboratory.intrinsic+json": {
              "type": "string"
            }
          },
          "metadata": {},
          "execution_count": 81
        }
      ],
      "source": [
        "torch.__version__"
      ]
    },
    {
      "cell_type": "markdown",
      "metadata": {
        "id": "Sut-qO6F0x1X"
      },
      "source": [
        "In our course we use PyTorch version >=2.2.1.   \n",
        "`cu121` refers to CUDA 12.1, a software layer that gives direct access to the GPU's virtual instruction set and parallel computational elements for the execution of compute kernels."
      ]
    },
    {
      "cell_type": "markdown",
      "metadata": {
        "id": "HE9DKe-9s2aH"
      },
      "source": [
        "## 2. Tensors\n",
        "\n",
        "In PyTorch, tensors are the fundamental data structure. They are similar to NumPy arrays but with some key advantages for deep learning:\n",
        "\n",
        "* **Multi-dimensional Arrays**: Like NumPy arrays, tensors can have multiple dimensions, making them suitable for representing data like images (2D), videos (3D), or sequences of text (1D).\n",
        "\n",
        "* **Hardware Acceleration**: PyTorch tensors can be moved to and run on GPUs or other hardware accelerators, significantly speeding up computations compared to CPUs for deep learning tasks.\n",
        "\n",
        "* **Automatic Differentiation**:  A core feature in deep learning, automatic differentiation allows PyTorch to calculate gradients efficiently, which is essential for training neural networks.  Regular NumPy arrays don't inherently support this.\n",
        "\n",
        "* **Rich Functionality**: PyTorch offers a variety of operations specifically designed for tensors, making it convenient to manipulate and analyze data for deep learning models.\n",
        "\n",
        "In essence, tensors in PyTorch act as the workhorses for your deep learning models. They store and process the data that gets fed into your network, undergoes computations, and ultimately leads to predictions or outputs.\n"
      ]
    },
    {
      "cell_type": "markdown",
      "metadata": {
        "id": "PrthmFbIfsXR"
      },
      "source": [
        "**PyTorch tensor operations:**\n",
        "\n",
        "PyTorch tensor operations are the fundamental building blocks for working with data in your deep learning models. These operations allow you to manipulate, analyze, and transform tensors in various ways. Here's a breakdown of some common categories:\n",
        "\n",
        "1. Arithmetic Operations:\n",
        "\n",
        "These operations perform element-wise calculations between tensors or a tensor and a scalar value. They include:\n",
        "\n",
        "    Addition (+)\n",
        "    Subtraction (-)\n",
        "    Multiplication (*)\n",
        "    Division (/)\n",
        "    Exponentiation (**)\n",
        "\n",
        "These operations can be used for simple calculations or combined to create more complex expressions.\n",
        "\n",
        "2. Comparison Operations:\n",
        "\n",
        "These operations compare elements between tensors or a tensor and a scalar value, resulting in a tensor of booleans (True or False) indicating the comparison outcome. Examples include:\n",
        "\n",
        "    Equal (==)\n",
        "    Not equal (!=)\n",
        "    Greater than (>)\n",
        "    Less than (<)\n",
        "    Greater than or equal (>=)\n",
        "    Less than or equal (<=)\n",
        "\n",
        "Comparison operations are useful for filtering data or making decisions within your model.\n",
        "\n",
        "3. Broadcasting:\n",
        "\n",
        "A powerful feature in PyTorch, broadcasting allows operations between tensors of different shapes as long as they are compatible. For instance, you can add a scalar value to a tensor, or add a one-dimensional tensor to a two-dimensional tensor (as long as the dimensions match). PyTorch automatically expands the smaller tensor to match the larger one for element-wise operations.\n",
        "\n",
        "4. In-place Operations:\n",
        "\n",
        "Certain operations modify the original tensor they are applied to, denoted by a trailing underscore (_). Examples include:\n",
        "\n",
        "    x.add_(y) (equivalent to x = x + y)\n",
        "    x.sub_(y) (equivalent to x = x - y)\n",
        "    x.mul_(y) (equivalent to x = x * y)\n",
        "\n",
        "These operations can be memory-efficient when modifying existing tensors is desired.\n",
        "\n",
        "5. Linear Algebra Operations:\n",
        "\n",
        "PyTorch provides functions for common linear algebra operations on tensors, including:\n",
        "\n",
        "    torch.matmul(a, b): Matrix multiplication between tensors a and b.\n",
        "    torch.sum(input, dim=None): Sums the elements of a tensor along a specified dimension.\n",
        "    torch.mean(input, dim=None): Computes the mean of the elements of a tensor along a specified dimension.\n",
        "\n",
        "These operations are essential for various deep learning tasks like calculating activation outputs or loss functions.\n",
        "\n",
        "6. Tensor Reshaping and Indexing:\n",
        "\n",
        "PyTorch offers functionalities to manipulate the shape and access specific elements of tensors:\n",
        "\n",
        "    x.view(new_shape): Reshapes the tensor x into a new shape while keeping the total number of elements the same.\n",
        "    x[index]: Accesses specific elements or sub-tensors using indexing syntax (similar to NumPy).\n",
        "\n",
        "Reshaping and indexing are crucial for preparing data for specific layers in your neural network architecture.\n",
        "\n",
        "7. Element-wise Operations:\n",
        "\n",
        "These operations apply a function to each element of a tensor independently. PyTorch provides a rich set of element-wise functions like:\n",
        "\n",
        "    torch.relu(x): Applies the rectified linear unit (ReLU) activation function.\n",
        "    torch.sigmoid(x): Applies the sigmoid activation function.\n",
        "    torch.tanh(x): Applies the hyperbolic tangent (tanh) activation function.\n",
        "\n",
        "Element-wise operations are fundamental for introducing non-linearity and transforming data in deep learning models.\n",
        "\n",
        "8. Random Operations:\n",
        "\n",
        "PyTorch offers functions for generating random tensors or modifying existing ones with randomness:\n",
        "\n",
        "    torch.rand(shape): Generates a random tensor filled with uniformly distributed values between 0 and 1.\n",
        "    torch.randn(shape): Generates a random tensor filled with values from a standard normal distribution.\n",
        "\n",
        "These operations are useful for data augmentation techniques or initializing weights in your network.\n",
        "\n",
        "By understanding and effectively using these PyTorch tensor operations, you can build and manipulate your deep learning models with greater flexibility and control."
      ]
    },
    {
      "cell_type": "markdown",
      "metadata": {
        "id": "H9nYSKhmoAQy"
      },
      "source": [
        "Some examples:"
      ]
    },
    {
      "cell_type": "code",
      "execution_count": null,
      "metadata": {
        "colab": {
          "base_uri": "https://localhost:8080/"
        },
        "id": "DMm7DspXrWpj",
        "outputId": "65488737-f4c8-4d40-82c2-55bc13f1cbd1"
      },
      "outputs": [
        {
          "output_type": "stream",
          "name": "stdout",
          "text": [
            "tens: tensor([[1, 2, 3, 4],\n",
            "        [5, 6, 7, 8]])\n",
            "Shape of tensor: torch.Size([2, 4])\n",
            "Datatype of tensor: torch.int64\n",
            "Device tensor is stored on: cpu\n"
          ]
        }
      ],
      "source": [
        "lst_of_lsts = [[1, 2, 3, 4],[5, 6, 7, 8]]\n",
        "tens = torch.tensor(lst_of_lsts)\n",
        "print(f\"tens: {tens}\")\n",
        "print(f\"Shape of tensor: {tens.shape}\")\n",
        "print(f\"Datatype of tensor: {tens.dtype}\")\n",
        "print(f\"Device tensor is stored on: {tens.device}\")\n"
      ]
    },
    {
      "cell_type": "code",
      "execution_count": null,
      "metadata": {
        "colab": {
          "base_uri": "https://localhost:8080/"
        },
        "id": "cLgpeDPeoDpG",
        "outputId": "ff500617-dfd7-492d-b28c-6d38d7c928f0"
      },
      "outputs": [
        {
          "output_type": "stream",
          "name": "stdout",
          "text": [
            "Random Tensor: \n",
            " tensor([[[0.6309, 0.1040, 0.4309],\n",
            "         [0.0082, 0.1141, 0.7677]],\n",
            "\n",
            "        [[0.0115, 0.8724, 0.7942],\n",
            "         [0.5144, 0.1539, 0.5808]]]) \n",
            "\n",
            "Ones Tensor: \n",
            " tensor([[[1., 1., 1.],\n",
            "         [1., 1., 1.]],\n",
            "\n",
            "        [[1., 1., 1.],\n",
            "         [1., 1., 1.]]]) \n",
            "\n",
            "Zeros Tensor: \n",
            " tensor([[[0., 0., 0.],\n",
            "         [0., 0., 0.]],\n",
            "\n",
            "        [[0., 0., 0.],\n",
            "         [0., 0., 0.]]])\n"
          ]
        }
      ],
      "source": [
        "shape = (2,2,3)\n",
        "rand_tensor = torch.rand(shape)\n",
        "ones_tensor = torch.ones(shape)\n",
        "zeros_tensor = torch.zeros(shape)\n",
        "\n",
        "print(f\"Random Tensor: \\n {rand_tensor} \\n\")\n",
        "print(f\"Ones Tensor: \\n {ones_tensor} \\n\")\n",
        "print(f\"Zeros Tensor: \\n {zeros_tensor}\")"
      ]
    },
    {
      "cell_type": "code",
      "execution_count": null,
      "metadata": {
        "colab": {
          "base_uri": "https://localhost:8080/"
        },
        "id": "5ADu57CsoykL",
        "outputId": "c2ea7888-4394-4e33-befe-a80ad978059e"
      },
      "outputs": [
        {
          "output_type": "stream",
          "name": "stdout",
          "text": [
            "t4.shape: torch.Size([300, 3])\n",
            "t5.shape: torch.Size([100, 9])\n"
          ]
        }
      ],
      "source": [
        "shpe = (100,3)\n",
        "t1 = torch.rand(shpe)\n",
        "t2 = torch.rand(shpe)\n",
        "t3 = torch.rand(shpe)\n",
        "t4=torch.cat([t1,t2,t3],dim=0)\n",
        "print(f\"t4.shape: {t4.shape}\")\n",
        "t5=torch.cat([t1,t2,t3],dim=1)\n",
        "print(f\"t5.shape: {t5.shape}\")"
      ]
    },
    {
      "cell_type": "code",
      "execution_count": null,
      "metadata": {
        "colab": {
          "base_uri": "https://localhost:8080/"
        },
        "id": "NwV4Fnweo1OT",
        "outputId": "0afebf7b-9092-4260-9d77-aff279c946aa"
      },
      "outputs": [
        {
          "output_type": "execute_result",
          "data": {
            "text/plain": [
              "tensor([[ 7.5103e+00, -9.6612e-01, -4.6308e-01,  ...,  1.3998e+00,\n",
              "         -5.0986e-02,  2.1459e-01],\n",
              "        [-9.6612e-01,  8.7909e+00, -1.0530e-01,  ...,  5.1288e-01,\n",
              "         -8.4213e-01, -6.3623e-01],\n",
              "        [-4.6308e-01, -1.0530e-01,  8.1246e+00,  ..., -8.4810e-01,\n",
              "          2.8425e-01, -1.6628e+00],\n",
              "        ...,\n",
              "        [ 1.3998e+00,  5.1288e-01, -8.4810e-01,  ...,  9.0061e+00,\n",
              "         -2.9752e-01,  2.2710e-03],\n",
              "        [-5.0986e-02, -8.4213e-01,  2.8425e-01,  ..., -2.9752e-01,\n",
              "          8.6282e+00,  6.5511e-01],\n",
              "        [ 2.1459e-01, -6.3623e-01, -1.6628e+00,  ...,  2.2710e-03,\n",
              "          6.5511e-01,  7.6757e+00]])"
            ]
          },
          "metadata": {},
          "execution_count": 85
        }
      ],
      "source": [
        "X = torch.rand(100,100)\n",
        "X_cent = X - X.mean(dim=1, keepdim=True)\n",
        "covX = X_cent.T@X_cent\n",
        "covX"
      ]
    },
    {
      "cell_type": "markdown",
      "metadata": {
        "id": "2qKr9lixtGgO"
      },
      "source": [
        "## Data & Handling"
      ]
    },
    {
      "cell_type": "markdown",
      "metadata": {
        "id": "9TJNXJdfuHxH"
      },
      "source": [
        "### PyTorch Datasets"
      ]
    },
    {
      "cell_type": "markdown",
      "metadata": {
        "id": "YZEnT7gHzWUp"
      },
      "source": [
        "Deep networks are versatile tools that can be adapted to various data types by\n",
        "leveraging appropriate pre-processing techniques and network architectures.\n",
        "PyTorch, like other deep learning libraries, can handle a wide array of data:\n",
        "  \n",
        "\n",
        "\n",
        "* images\n",
        "* audio\n",
        "* text data\n",
        "* tabluar (numerical, categorical, mixed)\n",
        "* multimodal Data\n",
        "* other\n",
        "\n"
      ]
    },
    {
      "cell_type": "markdown",
      "metadata": {
        "id": "GbZ5lmtzuKlb"
      },
      "source": [
        "PyTorch also offers built-in vision specific datasets as part of the `torchvision.datasets` [module](https://pytorch.org/vision/stable/datasets.html):"
      ]
    },
    {
      "cell_type": "code",
      "execution_count": null,
      "metadata": {
        "id": "9kGSr-D-y42B"
      },
      "outputs": [],
      "source": [
        "from torchvision import datasets"
      ]
    },
    {
      "cell_type": "code",
      "execution_count": null,
      "metadata": {
        "colab": {
          "base_uri": "https://localhost:8080/"
        },
        "id": "ML5of6dVzEAY",
        "outputId": "54464f1b-680f-4865-bd2e-a86a652f2be4"
      },
      "outputs": [
        {
          "output_type": "execute_result",
          "data": {
            "text/plain": [
              "['CIFAR10',\n",
              " 'CIFAR100',\n",
              " 'CLEVRClassification',\n",
              " 'CREStereo',\n",
              " 'Caltech101',\n",
              " 'Caltech256',\n",
              " 'CarlaStereo',\n",
              " 'CelebA',\n",
              " 'Cityscapes',\n",
              " 'CocoCaptions',\n",
              " 'CocoDetection',\n",
              " 'Country211',\n",
              " 'DTD',\n",
              " 'DatasetFolder',\n",
              " 'EMNIST',\n",
              " 'ETH3DStereo',\n",
              " 'EuroSAT',\n",
              " 'FER2013',\n",
              " 'FGVCAircraft',\n",
              " 'FakeData',\n",
              " 'FallingThingsStereo',\n",
              " 'FashionMNIST',\n",
              " 'Flickr30k',\n",
              " 'Flickr8k',\n",
              " 'Flowers102',\n",
              " 'FlyingChairs',\n",
              " 'FlyingThings3D',\n",
              " 'Food101',\n",
              " 'GTSRB',\n",
              " 'HD1K',\n",
              " 'HMDB51',\n",
              " 'INaturalist',\n",
              " 'ImageFolder',\n",
              " 'ImageNet',\n",
              " 'Imagenette',\n",
              " 'InStereo2k',\n",
              " 'KMNIST',\n",
              " 'Kinetics',\n",
              " 'Kitti',\n",
              " 'Kitti2012Stereo',\n",
              " 'Kitti2015Stereo',\n",
              " 'KittiFlow',\n",
              " 'LFWPairs',\n",
              " 'LFWPeople',\n",
              " 'LSUN',\n",
              " 'LSUNClass',\n",
              " 'MNIST',\n",
              " 'Middlebury2014Stereo',\n",
              " 'MovingMNIST',\n",
              " 'Omniglot',\n",
              " 'OxfordIIITPet',\n",
              " 'PCAM',\n",
              " 'PhotoTour',\n",
              " 'Places365',\n",
              " 'QMNIST',\n",
              " 'RenderedSST2',\n",
              " 'SBDataset',\n",
              " 'SBU',\n",
              " 'SEMEION',\n",
              " 'STL10',\n",
              " 'SUN397',\n",
              " 'SVHN',\n",
              " 'SceneFlowStereo',\n",
              " 'Sintel',\n",
              " 'SintelStereo',\n",
              " 'StanfordCars',\n",
              " 'UCF101',\n",
              " 'USPS',\n",
              " 'VOCDetection',\n",
              " 'VOCSegmentation',\n",
              " 'VisionDataset',\n",
              " 'WIDERFace',\n",
              " '__all__',\n",
              " '__builtins__',\n",
              " '__cached__',\n",
              " '__doc__',\n",
              " '__file__',\n",
              " '__getattr__',\n",
              " '__loader__',\n",
              " '__name__',\n",
              " '__package__',\n",
              " '__path__',\n",
              " '__spec__',\n",
              " '_optical_flow',\n",
              " '_stereo_matching',\n",
              " 'caltech',\n",
              " 'celeba',\n",
              " 'cifar',\n",
              " 'cityscapes',\n",
              " 'clevr',\n",
              " 'coco',\n",
              " 'country211',\n",
              " 'dtd',\n",
              " 'eurosat',\n",
              " 'fakedata',\n",
              " 'fer2013',\n",
              " 'fgvc_aircraft',\n",
              " 'flickr',\n",
              " 'flowers102',\n",
              " 'folder',\n",
              " 'food101',\n",
              " 'gtsrb',\n",
              " 'hmdb51',\n",
              " 'imagenet',\n",
              " 'imagenette',\n",
              " 'inaturalist',\n",
              " 'kinetics',\n",
              " 'kitti',\n",
              " 'lfw',\n",
              " 'lsun',\n",
              " 'mnist',\n",
              " 'moving_mnist',\n",
              " 'omniglot',\n",
              " 'oxford_iiit_pet',\n",
              " 'pcam',\n",
              " 'phototour',\n",
              " 'places365',\n",
              " 'rendered_sst2',\n",
              " 'sbd',\n",
              " 'sbu',\n",
              " 'semeion',\n",
              " 'stanford_cars',\n",
              " 'stl10',\n",
              " 'sun397',\n",
              " 'svhn',\n",
              " 'ucf101',\n",
              " 'usps',\n",
              " 'utils',\n",
              " 'video_utils',\n",
              " 'vision',\n",
              " 'voc',\n",
              " 'widerface']"
            ]
          },
          "metadata": {},
          "execution_count": 87
        }
      ],
      "source": [
        "dir(datasets)"
      ]
    },
    {
      "cell_type": "markdown",
      "metadata": {
        "id": "6CCQWfKR0etj"
      },
      "source": []
    },
    {
      "cell_type": "code",
      "execution_count": null,
      "metadata": {
        "colab": {
          "base_uri": "https://localhost:8080/"
        },
        "id": "WQjlYm3I3bIj",
        "outputId": "d5223d35-d2fa-4b9e-9d34-9e68810d753a"
      },
      "outputs": [
        {
          "output_type": "execute_result",
          "data": {
            "text/plain": [
              "Dataset FashionMNIST\n",
              "    Number of datapoints: 60000\n",
              "    Root location: data\n",
              "    Split: Train\n",
              "    StandardTransform\n",
              "Transform: ToTensor()"
            ]
          },
          "metadata": {},
          "execution_count": 88
        }
      ],
      "source": [
        "from torchvision.transforms import ToTensor\n",
        "train_source = training_data = datasets.FashionMNIST(\n",
        "    root=\"data\",\n",
        "    train=True,\n",
        "    download=True,\n",
        "    transform=ToTensor()\n",
        ")\n",
        "train_source"
      ]
    },
    {
      "cell_type": "code",
      "execution_count": null,
      "metadata": {
        "colab": {
          "base_uri": "https://localhost:8080/",
          "height": 203
        },
        "id": "uq7YInbH3z4K",
        "outputId": "6287a098-dafe-4229-a419-1de62cffa3a6"
      },
      "outputs": [
        {
          "output_type": "execute_result",
          "data": {
            "text/plain": [
              "torchvision.datasets.mnist.FashionMNIST"
            ],
            "text/html": [
              "<div style=\"max-width:800px; border: 1px solid var(--colab-border-color);\"><style>\n",
              "      pre.function-repr-contents {\n",
              "        overflow-x: auto;\n",
              "        padding: 8px 12px;\n",
              "        max-height: 500px;\n",
              "      }\n",
              "\n",
              "      pre.function-repr-contents.function-repr-contents-collapsed {\n",
              "        cursor: pointer;\n",
              "        max-height: 100px;\n",
              "      }\n",
              "    </style>\n",
              "    <pre style=\"white-space: initial; background:\n",
              "         var(--colab-secondary-surface-color); padding: 8px 12px;\n",
              "         border-bottom: 1px solid var(--colab-border-color);\"><b>torchvision.datasets.mnist.FashionMNIST</b><br/>def __init__(root: Union[str, Path], train: bool=True, transform: Optional[Callable]=None, target_transform: Optional[Callable]=None, download: bool=False) -&gt; None</pre><pre class=\"function-repr-contents function-repr-contents-collapsed\" style=\"\"><a class=\"filepath\" style=\"display:none\" href=\"#\">/usr/local/lib/python3.10/dist-packages/torchvision/datasets/mnist.py</a>`Fashion-MNIST &lt;https://github.com/zalandoresearch/fashion-mnist&gt;`_ Dataset.\n",
              "\n",
              "Args:\n",
              "    root (str or ``pathlib.Path``): Root directory of dataset where ``FashionMNIST/raw/train-images-idx3-ubyte``\n",
              "        and  ``FashionMNIST/raw/t10k-images-idx3-ubyte`` exist.\n",
              "    train (bool, optional): If True, creates dataset from ``train-images-idx3-ubyte``,\n",
              "        otherwise from ``t10k-images-idx3-ubyte``.\n",
              "    download (bool, optional): If True, downloads the dataset from the internet and\n",
              "        puts it in root directory. If dataset is already downloaded, it is not\n",
              "        downloaded again.\n",
              "    transform (callable, optional): A function/transform that  takes in a PIL image\n",
              "        and returns a transformed version. E.g, ``transforms.RandomCrop``\n",
              "    target_transform (callable, optional): A function/transform that takes in the\n",
              "        target and transforms it.</pre>\n",
              "      <script>\n",
              "      if (google.colab.kernel.accessAllowed && google.colab.files && google.colab.files.view) {\n",
              "        for (const element of document.querySelectorAll('.filepath')) {\n",
              "          element.style.display = 'block'\n",
              "          element.onclick = (event) => {\n",
              "            event.preventDefault();\n",
              "            event.stopPropagation();\n",
              "            google.colab.files.view(element.textContent, 203);\n",
              "          };\n",
              "        }\n",
              "      }\n",
              "      for (const element of document.querySelectorAll('.function-repr-contents')) {\n",
              "        element.onclick = (event) => {\n",
              "          event.preventDefault();\n",
              "          event.stopPropagation();\n",
              "          element.classList.toggle('function-repr-contents-collapsed');\n",
              "        };\n",
              "      }\n",
              "      </script>\n",
              "      </div>"
            ]
          },
          "metadata": {},
          "execution_count": 89
        }
      ],
      "source": [
        "type(train_source)"
      ]
    },
    {
      "cell_type": "code",
      "execution_count": null,
      "metadata": {
        "colab": {
          "base_uri": "https://localhost:8080/"
        },
        "id": "CI0VZXWe5oL_",
        "outputId": "bf0d4792-d509-4034-8e1c-212ea99261a6"
      },
      "outputs": [
        {
          "output_type": "stream",
          "name": "stdout",
          "text": [
            "the shape of the data: torch.Size([60000, 28, 28])\n"
          ]
        }
      ],
      "source": [
        "print(f\"the shape of the data: {train_source.data.shape}\")"
      ]
    },
    {
      "cell_type": "markdown",
      "metadata": {
        "id": "QvCx0iKV5uPl"
      },
      "source": [
        "We can visualize the data using matplotlib:"
      ]
    },
    {
      "cell_type": "code",
      "execution_count": null,
      "metadata": {
        "id": "UpM3phXL41eL"
      },
      "outputs": [],
      "source": [
        "import matplotlib.pyplot as plt"
      ]
    },
    {
      "cell_type": "code",
      "execution_count": null,
      "metadata": {
        "colab": {
          "base_uri": "https://localhost:8080/",
          "height": 502
        },
        "id": "UGVwuqTP4w6B",
        "outputId": "5739fdee-aaae-4971-d4bb-ffc543b6da9d"
      },
      "outputs": [
        {
          "output_type": "display_data",
          "data": {
            "text/plain": [
              "<Figure size 800x800 with 10 Axes>"
            ],
            "image/png": "[encoded data removed]"
          },
          "metadata": {}
        }
      ],
      "source": [
        "labels_map = {\n",
        "    0: \"T-Shirt\",\n",
        "    1: \"Trouser\",\n",
        "    2: \"Pullover\",\n",
        "    3: \"Dress\",\n",
        "    4: \"Coat\",\n",
        "    5: \"Sandal\",\n",
        "    6: \"Shirt\",\n",
        "    7: \"Sneaker\",\n",
        "    8: \"Bag\",\n",
        "    9: \"Ankle Boot\",\n",
        "}\n",
        "figure = plt.figure(figsize=(8, 8))\n",
        "cols, rows = 5, 2\n",
        "for i in range(1, cols * rows + 1):\n",
        "    sample_idx = torch.randint(len(train_source), size=(1,)).item()\n",
        "    img, label = train_source[sample_idx]\n",
        "    figure.add_subplot(rows, cols, i)\n",
        "    plt.title(labels_map[label])\n",
        "    plt.axis(\"off\")\n",
        "    plt.imshow(img.squeeze(), cmap=\"gray\")\n",
        "plt.show()"
      ]
    },
    {
      "cell_type": "markdown",
      "metadata": {
        "id": "WUArfaqcuF9p"
      },
      "source": [
        "### DataLoader"
      ]
    },
    {
      "cell_type": "markdown",
      "metadata": {
        "id": "ptoV6URJtMyg"
      },
      "source": [
        "As mentioned above, the `torch.utils.data.DataLoader` is responsible for handling data during the deep learning model training.\n",
        "\n",
        "Key Parameters:\n",
        "\n",
        "* dataset (Dataset): The PyTorch dataset you want to load data from (your custom class representing the data and how to access samples and labels).\n",
        "* batch_size (int, optional): The number of samples in a batch (default: 1).\n",
        "* shuffle (bool, optional): Whether to shuffle the data at the beginning of each epoch (default: False).\n",
        "* sampler (Sampler, optional): A custom sampler object for controlling data loading order (default: None).\n",
        "* collate_fn (callable, optional): A function to customize how samples within a batch are combined (default: None). Useful for padding sequences.\n",
        "* pin_memory=True (bool, optional): If using a GPU, pin fetched data tensors in pinned memory for faster transfer (default: False)."
      ]
    },
    {
      "cell_type": "code",
      "execution_count": null,
      "metadata": {
        "colab": {
          "base_uri": "https://localhost:8080/",
          "height": 272
        },
        "id": "4XyudTrorICU",
        "outputId": "06905360-ca50-438b-8874-7bbe9048acaa"
      },
      "outputs": [
        {
          "output_type": "execute_result",
          "data": {
            "text/plain": [
              "torch.utils.data.dataloader.DataLoader"
            ],
            "text/html": [
              "<div style=\"max-width:800px; border: 1px solid var(--colab-border-color);\"><style>\n",
              "      pre.function-repr-contents {\n",
              "        overflow-x: auto;\n",
              "        padding: 8px 12px;\n",
              "        max-height: 500px;\n",
              "      }\n",
              "\n",
              "      pre.function-repr-contents.function-repr-contents-collapsed {\n",
              "        cursor: pointer;\n",
              "        max-height: 100px;\n",
              "      }\n",
              "    </style>\n",
              "    <pre style=\"white-space: initial; background:\n",
              "         var(--colab-secondary-surface-color); padding: 8px 12px;\n",
              "         border-bottom: 1px solid var(--colab-border-color);\"><b>torch.utils.data.dataloader.DataLoader</b><br/>def __init__(dataset: Dataset[_T_co], batch_size: Optional[int]=1, shuffle: Optional[bool]=None, sampler: Union[Sampler, Iterable, None]=None, batch_sampler: Union[Sampler[List], Iterable[List], None]=None, num_workers: int=0, collate_fn: Optional[_collate_fn_t]=None, pin_memory: bool=False, drop_last: bool=False, timeout: float=0, worker_init_fn: Optional[_worker_init_fn_t]=None, multiprocessing_context=None, generator=None, *, prefetch_factor: Optional[int]=None, persistent_workers: bool=False, pin_memory_device: str=&#x27;&#x27;)</pre><pre class=\"function-repr-contents function-repr-contents-collapsed\" style=\"\"><a class=\"filepath\" style=\"display:none\" href=\"#\">/usr/local/lib/python3.10/dist-packages/torch/utils/data/dataloader.py</a>Data loader combines a dataset and a sampler, and provides an iterable over the given dataset.\n",
              "\n",
              "The :class:`~torch.utils.data.DataLoader` supports both map-style and\n",
              "iterable-style datasets with single- or multi-process loading, customizing\n",
              "loading order and optional automatic batching (collation) and memory pinning.\n",
              "\n",
              "See :py:mod:`torch.utils.data` documentation page for more details.\n",
              "\n",
              "Args:\n",
              "    dataset (Dataset): dataset from which to load the data.\n",
              "    batch_size (int, optional): how many samples per batch to load\n",
              "        (default: ``1``).\n",
              "    shuffle (bool, optional): set to ``True`` to have the data reshuffled\n",
              "        at every epoch (default: ``False``).\n",
              "    sampler (Sampler or Iterable, optional): defines the strategy to draw\n",
              "        samples from the dataset. Can be any ``Iterable`` with ``__len__``\n",
              "        implemented. If specified, :attr:`shuffle` must not be specified.\n",
              "    batch_sampler (Sampler or Iterable, optional): like :attr:`sampler`, but\n",
              "        returns a batch of indices at a time. Mutually exclusive with\n",
              "        :attr:`batch_size`, :attr:`shuffle`, :attr:`sampler`,\n",
              "        and :attr:`drop_last`.\n",
              "    num_workers (int, optional): how many subprocesses to use for data\n",
              "        loading. ``0`` means that the data will be loaded in the main process.\n",
              "        (default: ``0``)\n",
              "    collate_fn (Callable, optional): merges a list of samples to form a\n",
              "        mini-batch of Tensor(s).  Used when using batched loading from a\n",
              "        map-style dataset.\n",
              "    pin_memory (bool, optional): If ``True``, the data loader will copy Tensors\n",
              "        into device/CUDA pinned memory before returning them.  If your data elements\n",
              "        are a custom type, or your :attr:`collate_fn` returns a batch that is a custom type,\n",
              "        see the example below.\n",
              "    drop_last (bool, optional): set to ``True`` to drop the last incomplete batch,\n",
              "        if the dataset size is not divisible by the batch size. If ``False`` and\n",
              "        the size of dataset is not divisible by the batch size, then the last batch\n",
              "        will be smaller. (default: ``False``)\n",
              "    timeout (numeric, optional): if positive, the timeout value for collecting a batch\n",
              "        from workers. Should always be non-negative. (default: ``0``)\n",
              "    worker_init_fn (Callable, optional): If not ``None``, this will be called on each\n",
              "        worker subprocess with the worker id (an int in ``[0, num_workers - 1]``) as\n",
              "        input, after seeding and before data loading. (default: ``None``)\n",
              "    multiprocessing_context (str or multiprocessing.context.BaseContext, optional): If\n",
              "        ``None``, the default `multiprocessing context`_ of your operating system will\n",
              "        be used. (default: ``None``)\n",
              "    generator (torch.Generator, optional): If not ``None``, this RNG will be used\n",
              "        by RandomSampler to generate random indexes and multiprocessing to generate\n",
              "        ``base_seed`` for workers. (default: ``None``)\n",
              "    prefetch_factor (int, optional, keyword-only arg): Number of batches loaded\n",
              "        in advance by each worker. ``2`` means there will be a total of\n",
              "        2 * num_workers batches prefetched across all workers. (default value depends\n",
              "        on the set value for num_workers. If value of num_workers=0 default is ``None``.\n",
              "        Otherwise, if value of ``num_workers &gt; 0`` default is ``2``).\n",
              "    persistent_workers (bool, optional): If ``True``, the data loader will not shut down\n",
              "        the worker processes after a dataset has been consumed once. This allows to\n",
              "        maintain the workers `Dataset` instances alive. (default: ``False``)\n",
              "    pin_memory_device (str, optional): the device to :attr:`pin_memory` to if ``pin_memory`` is\n",
              "        ``True``.\n",
              "\n",
              "\n",
              ".. warning:: If the ``spawn`` start method is used, :attr:`worker_init_fn`\n",
              "             cannot be an unpicklable object, e.g., a lambda function. See\n",
              "             :ref:`multiprocessing-best-practices` on more details related\n",
              "             to multiprocessing in PyTorch.\n",
              "\n",
              ".. warning:: ``len(dataloader)`` heuristic is based on the length of the sampler used.\n",
              "             When :attr:`dataset` is an :class:`~torch.utils.data.IterableDataset`,\n",
              "             it instead returns an estimate based on ``len(dataset) / batch_size``, with proper\n",
              "             rounding depending on :attr:`drop_last`, regardless of multi-process loading\n",
              "             configurations. This represents the best guess PyTorch can make because PyTorch\n",
              "             trusts user :attr:`dataset` code in correctly handling multi-process\n",
              "             loading to avoid duplicate data.\n",
              "\n",
              "             However, if sharding results in multiple workers having incomplete last batches,\n",
              "             this estimate can still be inaccurate, because (1) an otherwise complete batch can\n",
              "             be broken into multiple ones and (2) more than one batch worth of samples can be\n",
              "             dropped when :attr:`drop_last` is set. Unfortunately, PyTorch can not detect such\n",
              "             cases in general.\n",
              "\n",
              "             See `Dataset Types`_ for more details on these two types of datasets and how\n",
              "             :class:`~torch.utils.data.IterableDataset` interacts with\n",
              "             `Multi-process data loading`_.\n",
              "\n",
              ".. warning:: See :ref:`reproducibility`, and :ref:`dataloader-workers-random-seed`, and\n",
              "             :ref:`data-loading-randomness` notes for random seed related questions.\n",
              "\n",
              ".. _multiprocessing context:\n",
              "    https://docs.python.org/3/library/multiprocessing.html#contexts-and-start-methods</pre>\n",
              "      <script>\n",
              "      if (google.colab.kernel.accessAllowed && google.colab.files && google.colab.files.view) {\n",
              "        for (const element of document.querySelectorAll('.filepath')) {\n",
              "          element.style.display = 'block'\n",
              "          element.onclick = (event) => {\n",
              "            event.preventDefault();\n",
              "            event.stopPropagation();\n",
              "            google.colab.files.view(element.textContent, 130);\n",
              "          };\n",
              "        }\n",
              "      }\n",
              "      for (const element of document.querySelectorAll('.function-repr-contents')) {\n",
              "        element.onclick = (event) => {\n",
              "          event.preventDefault();\n",
              "          event.stopPropagation();\n",
              "          element.classList.toggle('function-repr-contents-collapsed');\n",
              "        };\n",
              "      }\n",
              "      </script>\n",
              "      </div>"
            ]
          },
          "metadata": {},
          "execution_count": 93
        }
      ],
      "source": [
        "train = DataLoader(train_source, batch_size=64, shuffle=True)\n",
        "type(train)"
      ]
    },
    {
      "cell_type": "markdown",
      "metadata": {
        "id": "FdKFXjkH6NPg"
      },
      "source": [
        "\n",
        "\n",
        "> The Dataset retrieves our dataset’s features and labels one sample at a time. While training a model, we typically want to pass samples in “minibatches”, reshuffle the data at every epoch to reduce model overfitting, and use Python’s multiprocessing to speed up data retrieval.\n",
        "\n"
      ]
    },
    {
      "cell_type": "code",
      "execution_count": null,
      "metadata": {
        "colab": {
          "base_uri": "https://localhost:8080/"
        },
        "id": "vBYbBhat6DBf",
        "outputId": "3a54c2e7-cd1c-4df9-e200-acb8f19e87ea"
      },
      "outputs": [
        {
          "output_type": "stream",
          "name": "stdout",
          "text": [
            "batch shape: torch.Size([64, 1, 28, 28])\n",
            "batch shape: torch.Size([64, 1, 28, 28])\n",
            "batch shape: torch.Size([64, 1, 28, 28])\n",
            "batch shape: torch.Size([64, 1, 28, 28])\n",
            "batch shape: torch.Size([64, 1, 28, 28])\n"
          ]
        }
      ],
      "source": [
        "for i in range(5):\n",
        "  btch = next(iter(train))\n",
        "  print(f\"batch shape: {btch[0].shape}\")"
      ]
    },
    {
      "cell_type": "markdown",
      "metadata": {
        "id": "KOok4gOvaBuW"
      },
      "source": [
        "## Practice Questions"
      ]
    },
    {
      "cell_type": "markdown",
      "metadata": {
        "id": "B3Fby9XPaJjR"
      },
      "source": [
        "Produce the following tensors:  \n",
        "\n",
        "1. Create a tensor from the list `[1, 2, 3]`\n",
        "2. Create a tensor from a NumPy array of shape (50,10)\n",
        "3. Specify a data type and device option for a tensor with `[7, 8, 9]`, `[.5,0,.7]`\n",
        "4. Create a zero tensor of size (3, 4)\n",
        "5. Create a ones tensor of size (2, 2, 2) with dtype float\n",
        "6. Create a tensor of size (5, 5) with random values from a normal distribution\n",
        "7. Create a new tensor by cloning an existing tensor\n",
        "8. Create a new tensor by reshaping an existing tensor\n",
        "9. Create a new tensor by concatenating two existing tensors\n",
        "10.  Perform operations with different data types"
      ]
    },
    {
      "cell_type": "code",
      "execution_count": null,
      "metadata": {
        "id": "ASqrBB6KeImk",
        "colab": {
          "base_uri": "https://localhost:8080/"
        },
        "outputId": "a33cb603-1a91-4983-cbd4-822cbb80d812"
      },
      "outputs": [
        {
          "output_type": "stream",
          "name": "stdout",
          "text": [
            "Tensor: tensor([1, 2, 3])\n"
          ]
        }
      ],
      "source": [
        "# YOUR CODE HERE\n",
        "\n",
        "import torch\n",
        "import numpy as np\n",
        "\n",
        "# 1.\n",
        "\n",
        "lst = [1, 2, 3]\n",
        "tens_lst = torch.tensor(lst)\n",
        "print(f\"Tensor: {tens_lst}\")\n"
      ]
    },
    {
      "cell_type": "code",
      "source": [
        "# 2.\n",
        "numpy_array = np.random.rand(50, 10)\n",
        "tens_np = torch.tensor(numpy_array)\n",
        "print(f\"Tensor from NumPy array: {tens_np}\")"
      ],
      "metadata": {
        "colab": {
          "base_uri": "https://localhost:8080/"
        },
        "id": "txu0W84ktmxC",
        "outputId": "aff784e2-08ac-4143-b2a3-59f0d58794fd"
      },
      "execution_count": null,
      "outputs": [
        {
          "output_type": "stream",
          "name": "stdout",
          "text": [
            "Tensor from NumPy array: tensor([[5.6287e-01, 9.8748e-01, 1.0630e-01, 5.9738e-02, 1.4084e-01, 9.9539e-01,\n",
            "         3.7343e-01, 1.8625e-02, 4.3422e-01, 4.5812e-01],\n",
            "        [1.0692e-02, 7.5618e-01, 6.4473e-01, 8.0701e-01, 5.7140e-01, 4.8164e-01,\n",
            "         5.4498e-01, 7.0867e-01, 2.7679e-01, 1.0243e-01],\n",
            "        [6.1804e-01, 8.5615e-01, 9.8645e-01, 3.4979e-01, 3.3810e-01, 8.5071e-01,\n",
            "         3.2813e-01, 1.0922e-01, 4.0782e-02, 8.5710e-01],\n",
            "        [6.5973e-01, 1.9140e-02, 9.0337e-01, 8.8717e-01, 7.3610e-01, 7.2711e-01,\n",
            "         9.4631e-03, 3.2778e-01, 7.9394e-01, 5.8023e-02],\n",
            "        [2.8527e-01, 2.1193e-01, 5.0779e-01, 5.7267e-01, 9.0070e-01, 9.7508e-01,\n",
            "         1.5866e-01, 7.9942e-01, 3.8944e-01, 2.0690e-01],\n",
            "        [5.9259e-01, 6.1688e-01, 6.6541e-03, 5.2996e-01, 5.0612e-01, 9.0904e-01,\n",
            "         7.9708e-01, 3.8908e-01, 9.3064e-02, 5.4490e-01],\n",
            "        [4.6071e-01, 4.1868e-01, 9.8748e-01, 1.1576e-01, 9.5819e-01, 7.4414e-01,\n",
            "         9.9545e-01, 2.0238e-02, 4.1985e-01, 2.1175e-01],\n",
            "        [5.1860e-01, 8.1647e-01, 9.2464e-01, 8.5586e-01, 9.9398e-01, 4.0947e-01,\n",
            "         7.1415e-01, 3.1705e-01, 2.3008e-01, 5.1139e-01],\n",
            "        [2.3448e-01, 8.5212e-01, 9.7577e-01, 9.8723e-01, 8.8947e-01, 1.5411e-01,\n",
            "         5.2279e-01, 4.0204e-02, 6.1202e-01, 5.3945e-01],\n",
            "        [6.3808e-03, 9.4903e-01, 3.4749e-01, 6.0432e-01, 8.9675e-01, 4.4342e-01,\n",
            "         6.2110e-01, 7.0779e-01, 9.6892e-01, 6.2725e-01],\n",
            "        [8.9338e-02, 9.1419e-02, 5.4662e-01, 8.3185e-01, 4.9737e-01, 6.5851e-01,\n",
            "         9.5980e-01, 1.8250e-02, 3.1774e-01, 7.9410e-01],\n",
            "        [2.3796e-01, 8.7824e-01, 3.4170e-01, 8.4060e-02, 9.6367e-01, 9.3342e-02,\n",
            "         5.5983e-01, 7.6178e-01, 8.2713e-01, 1.8835e-01],\n",
            "        [8.8795e-01, 6.2209e-01, 2.9556e-01, 8.1243e-01, 5.5345e-01, 3.3020e-01,\n",
            "         1.8726e-01, 4.6269e-01, 9.8939e-01, 7.8955e-01],\n",
            "        [7.3853e-02, 5.6824e-01, 8.0364e-01, 7.6432e-01, 3.9039e-01, 6.7680e-01,\n",
            "         8.9240e-01, 3.0466e-01, 7.9465e-01, 2.4583e-01],\n",
            "        [1.1494e-01, 7.8916e-01, 1.0315e-02, 5.6774e-01, 6.2793e-01, 4.7546e-01,\n",
            "         7.3385e-01, 8.7842e-01, 2.4847e-01, 3.9842e-01],\n",
            "        [2.5340e-01, 8.7838e-01, 5.9684e-01, 3.4385e-01, 5.7326e-02, 4.7647e-01,\n",
            "         8.9209e-02, 1.8142e-01, 5.3586e-01, 3.0143e-01],\n",
            "        [5.9803e-01, 8.6702e-01, 9.5444e-01, 1.1849e-01, 7.8898e-01, 1.9747e-01,\n",
            "         7.0642e-01, 6.9811e-01, 1.4939e-01, 1.8302e-01],\n",
            "        [9.9404e-02, 8.2813e-01, 6.5049e-01, 8.9944e-01, 9.1319e-02, 2.8054e-01,\n",
            "         7.1820e-01, 2.4649e-01, 8.9791e-01, 3.8005e-01],\n",
            "        [3.5958e-01, 3.7170e-01, 4.8609e-01, 2.4304e-01, 3.3496e-01, 9.1720e-01,\n",
            "         2.2291e-01, 2.8070e-01, 7.4965e-02, 9.2649e-01],\n",
            "        [3.3964e-01, 1.3635e-01, 9.1836e-01, 1.4993e-01, 3.0958e-01, 8.0174e-01,\n",
            "         7.4275e-01, 2.0808e-01, 5.7810e-01, 8.6774e-01],\n",
            "        [3.7496e-01, 7.7729e-02, 1.1296e-01, 8.2475e-01, 7.4063e-01, 7.7040e-02,\n",
            "         6.2033e-01, 7.1341e-01, 8.4192e-01, 7.4833e-01],\n",
            "        [2.3073e-01, 7.3365e-01, 5.4757e-02, 8.9328e-01, 7.1339e-01, 6.5843e-01,\n",
            "         9.8261e-01, 2.2818e-01, 4.3293e-01, 3.2998e-02],\n",
            "        [3.6991e-01, 2.8577e-01, 7.6129e-01, 2.5005e-01, 8.9991e-01, 7.0915e-01,\n",
            "         1.8037e-01, 7.4839e-01, 5.2145e-01, 6.4031e-01],\n",
            "        [4.2418e-01, 4.2441e-01, 9.9514e-01, 9.7593e-01, 2.6209e-01, 4.4928e-01,\n",
            "         1.3016e-01, 7.9828e-02, 6.3377e-01, 2.7916e-02],\n",
            "        [7.1363e-01, 2.5249e-01, 6.5010e-02, 5.4060e-01, 9.4523e-01, 4.4036e-01,\n",
            "         4.5349e-01, 4.2291e-01, 4.0737e-01, 6.1630e-01],\n",
            "        [8.4637e-01, 2.6545e-01, 5.5917e-01, 6.2134e-01, 7.6049e-01, 5.3261e-01,\n",
            "         2.1194e-02, 6.6596e-01, 5.7508e-01, 3.2832e-01],\n",
            "        [6.4716e-01, 8.0113e-01, 6.4882e-02, 2.8932e-01, 7.1044e-01, 2.6917e-01,\n",
            "         3.6270e-01, 8.2408e-01, 9.5673e-01, 3.2196e-01],\n",
            "        [6.4816e-01, 1.3753e-01, 9.3856e-01, 3.9424e-01, 2.6211e-02, 6.3695e-01,\n",
            "         9.7908e-01, 8.5196e-01, 9.8051e-01, 7.7994e-01],\n",
            "        [5.1870e-01, 3.6459e-01, 2.7380e-01, 3.7757e-01, 9.6609e-01, 7.5397e-01,\n",
            "         4.1327e-01, 6.9966e-01, 1.6524e-01, 5.5430e-01],\n",
            "        [7.1158e-01, 1.4694e-01, 5.0066e-01, 7.2742e-01, 3.7973e-01, 6.9668e-01,\n",
            "         9.0787e-01, 9.4301e-01, 1.4092e-01, 4.6578e-01],\n",
            "        [4.5591e-01, 4.2737e-01, 4.2155e-01, 5.4481e-01, 1.4859e-01, 5.3913e-01,\n",
            "         2.8839e-01, 8.1967e-01, 7.7898e-02, 9.5658e-02],\n",
            "        [6.7608e-01, 8.9252e-01, 7.0890e-01, 1.2598e-01, 8.9937e-01, 2.2967e-01,\n",
            "         4.4735e-01, 3.0257e-01, 7.3002e-01, 9.6708e-01],\n",
            "        [8.5004e-01, 4.0044e-01, 2.2155e-01, 3.7352e-01, 6.9854e-01, 1.1492e-01,\n",
            "         3.1392e-01, 6.8543e-01, 8.1316e-01, 3.2679e-01],\n",
            "        [8.7101e-01, 8.1152e-01, 4.9438e-01, 1.7534e-01, 1.1765e-01, 1.1956e-01,\n",
            "         8.6984e-02, 1.6525e-01, 9.7749e-01, 6.6272e-01],\n",
            "        [5.9109e-01, 3.8695e-01, 3.3997e-01, 6.6515e-01, 6.1273e-01, 7.1484e-01,\n",
            "         2.1496e-01, 5.9797e-01, 6.6450e-01, 7.9487e-01],\n",
            "        [8.7129e-01, 5.3602e-01, 2.0479e-01, 5.5548e-01, 7.4571e-01, 9.4960e-01,\n",
            "         4.1693e-01, 5.1490e-01, 8.0692e-02, 3.1616e-01],\n",
            "        [6.8617e-01, 6.6558e-01, 2.6240e-01, 3.4144e-01, 9.1309e-01, 9.1380e-01,\n",
            "         9.9961e-01, 5.1698e-01, 2.2952e-01, 4.3752e-01],\n",
            "        [6.5302e-01, 9.3899e-01, 3.1821e-01, 1.4021e-01, 5.8471e-01, 9.6279e-01,\n",
            "         9.7657e-01, 4.1988e-01, 2.0025e-01, 2.9203e-01],\n",
            "        [9.7516e-01, 6.5006e-01, 5.4380e-02, 2.6319e-01, 7.2401e-01, 6.2018e-01,\n",
            "         3.3166e-01, 9.3464e-01, 6.4670e-01, 6.5607e-01],\n",
            "        [1.8103e-01, 6.5010e-01, 5.1900e-01, 3.2522e-01, 3.9091e-02, 3.1035e-01,\n",
            "         5.3188e-01, 9.5118e-01, 4.1951e-01, 8.2037e-01],\n",
            "        [4.5385e-01, 1.1962e-01, 2.9689e-01, 5.1232e-01, 7.0131e-01, 7.2176e-01,\n",
            "         4.0498e-01, 8.9360e-01, 1.3130e-01, 4.6623e-01],\n",
            "        [8.3952e-01, 6.5650e-02, 7.4866e-04, 4.0014e-02, 9.5753e-01, 4.7883e-01,\n",
            "         8.6180e-01, 6.4657e-01, 3.4296e-01, 1.8824e-01],\n",
            "        [9.7457e-01, 6.2168e-01, 5.1492e-01, 1.7402e-01, 2.3436e-02, 5.2892e-01,\n",
            "         3.8490e-01, 8.9967e-01, 5.5859e-01, 9.1967e-02],\n",
            "        [6.1536e-01, 1.6171e-01, 2.5434e-01, 7.1696e-01, 1.4114e-02, 9.9777e-01,\n",
            "         8.5001e-01, 7.8189e-01, 3.0796e-02, 3.7258e-01],\n",
            "        [4.4301e-02, 5.7101e-01, 1.0911e-02, 5.3407e-01, 5.5934e-01, 8.2470e-01,\n",
            "         1.2614e-01, 3.5217e-01, 6.1093e-01, 5.4025e-01],\n",
            "        [9.4498e-01, 9.5473e-01, 7.2363e-01, 6.6487e-01, 8.4558e-01, 5.5325e-01,\n",
            "         9.1827e-01, 2.0976e-01, 9.4112e-01, 4.5574e-01],\n",
            "        [7.0485e-02, 4.7675e-02, 2.3873e-01, 4.9152e-01, 8.2907e-01, 4.7895e-02,\n",
            "         5.2218e-01, 4.1962e-01, 5.5214e-01, 7.6027e-01],\n",
            "        [7.6384e-01, 4.8991e-01, 5.3688e-01, 9.5862e-01, 3.1689e-01, 6.5504e-01,\n",
            "         7.1041e-01, 7.8855e-01, 2.1688e-01, 7.3381e-01],\n",
            "        [7.9868e-01, 2.5434e-01, 8.3593e-01, 1.2933e-02, 1.2289e-01, 9.8666e-01,\n",
            "         5.1392e-01, 6.7131e-01, 1.4932e-01, 6.7108e-02],\n",
            "        [6.6817e-01, 5.3926e-01, 9.1058e-01, 6.9917e-01, 2.6783e-01, 2.3379e-01,\n",
            "         6.5692e-01, 1.3935e-01, 9.8057e-01, 5.2023e-01]], dtype=torch.float64)\n"
          ]
        }
      ]
    },
    {
      "cell_type": "code",
      "source": [
        "# 3.\n",
        "lists = [[7, 8, 9], [0.5, 0, 0.7]]\n",
        "tensor_with_dtype_device = torch.tensor(lists, dtype=torch.float32, device='cpu')\n",
        "print(f\"Tensor's data type': {tensor_with_dtype_device.dtype}\")\n",
        "print(f\"Tensor's device': {tensor_with_dtype_device.device}\")"
      ],
      "metadata": {
        "colab": {
          "base_uri": "https://localhost:8080/"
        },
        "id": "R_vp2Fj9tmuF",
        "outputId": "06ec6513-0d4b-4434-a7c2-589c63044a5e"
      },
      "execution_count": null,
      "outputs": [
        {
          "output_type": "stream",
          "name": "stdout",
          "text": [
            "Tensor's data type': torch.float32\n",
            "Tensor's device': cpu\n"
          ]
        }
      ]
    },
    {
      "cell_type": "code",
      "source": [
        "# 4.\n",
        "zero_tensor = torch.zeros(3, 4)\n",
        "print(f\"Zero tensor': {zero_tensor}\")"
      ],
      "metadata": {
        "colab": {
          "base_uri": "https://localhost:8080/"
        },
        "id": "1aQ36F7itmrF",
        "outputId": "e05e58c8-8007-4a85-ac38-f7b509ee2911"
      },
      "execution_count": null,
      "outputs": [
        {
          "output_type": "stream",
          "name": "stdout",
          "text": [
            "Zero tensor': tensor([[0., 0., 0., 0.],\n",
            "        [0., 0., 0., 0.],\n",
            "        [0., 0., 0., 0.]])\n"
          ]
        }
      ]
    },
    {
      "cell_type": "code",
      "source": [
        "# 5.\n",
        "ones_tensor = torch.ones(2, 2, 2, dtype=torch.float32)\n",
        "print(f\"Ones tensor': {ones_tensor}\")"
      ],
      "metadata": {
        "colab": {
          "base_uri": "https://localhost:8080/"
        },
        "id": "VUtC3UwNtmn0",
        "outputId": "8c41502e-8a30-4528-d9e9-419f93b58278"
      },
      "execution_count": null,
      "outputs": [
        {
          "output_type": "stream",
          "name": "stdout",
          "text": [
            "Ones tensor': tensor([[[1., 1.],\n",
            "         [1., 1.]],\n",
            "\n",
            "        [[1., 1.],\n",
            "         [1., 1.]]])\n"
          ]
        }
      ]
    },
    {
      "cell_type": "code",
      "source": [
        "# 6.\n",
        "normal_random_tensor = torch.randn(5, 5)\n",
        "print(f\"Tensor with random values from a normal distribution': {normal_random_tensor}\")"
      ],
      "metadata": {
        "colab": {
          "base_uri": "https://localhost:8080/"
        },
        "id": "TJ9Ckz7btmkq",
        "outputId": "1eac2b73-2677-469c-9b16-2b90c1c3c469"
      },
      "execution_count": null,
      "outputs": [
        {
          "output_type": "stream",
          "name": "stdout",
          "text": [
            "Tensor with random values from a normal distribution': tensor([[-1.0236,  0.7253, -0.0439, -0.1315, -0.7308],\n",
            "        [-1.6145,  0.2496, -0.6952,  1.0438, -0.2600],\n",
            "        [ 1.9360,  0.9779,  0.6505,  1.4405,  0.2466],\n",
            "        [-1.0227, -0.7138,  0.5631, -1.9042, -1.1209],\n",
            "        [-0.9152, -0.3228, -0.3514,  0.1886, -1.1022]])\n"
          ]
        }
      ]
    },
    {
      "cell_type": "code",
      "source": [
        "# 7.\n",
        "clone_tensor = tens_np.clone()\n",
        "print(f\"Cloned tensor': {clone_tensor}\")"
      ],
      "metadata": {
        "colab": {
          "base_uri": "https://localhost:8080/"
        },
        "id": "7l2lnxzktmhc",
        "outputId": "3b23c692-5b04-4cad-c8c2-983f24383a4c"
      },
      "execution_count": null,
      "outputs": [
        {
          "output_type": "stream",
          "name": "stdout",
          "text": [
            "Cloned tensor': tensor([[5.6287e-01, 9.8748e-01, 1.0630e-01, 5.9738e-02, 1.4084e-01, 9.9539e-01,\n",
            "         3.7343e-01, 1.8625e-02, 4.3422e-01, 4.5812e-01],\n",
            "        [1.0692e-02, 7.5618e-01, 6.4473e-01, 8.0701e-01, 5.7140e-01, 4.8164e-01,\n",
            "         5.4498e-01, 7.0867e-01, 2.7679e-01, 1.0243e-01],\n",
            "        [6.1804e-01, 8.5615e-01, 9.8645e-01, 3.4979e-01, 3.3810e-01, 8.5071e-01,\n",
            "         3.2813e-01, 1.0922e-01, 4.0782e-02, 8.5710e-01],\n",
            "        [6.5973e-01, 1.9140e-02, 9.0337e-01, 8.8717e-01, 7.3610e-01, 7.2711e-01,\n",
            "         9.4631e-03, 3.2778e-01, 7.9394e-01, 5.8023e-02],\n",
            "        [2.8527e-01, 2.1193e-01, 5.0779e-01, 5.7267e-01, 9.0070e-01, 9.7508e-01,\n",
            "         1.5866e-01, 7.9942e-01, 3.8944e-01, 2.0690e-01],\n",
            "        [5.9259e-01, 6.1688e-01, 6.6541e-03, 5.2996e-01, 5.0612e-01, 9.0904e-01,\n",
            "         7.9708e-01, 3.8908e-01, 9.3064e-02, 5.4490e-01],\n",
            "        [4.6071e-01, 4.1868e-01, 9.8748e-01, 1.1576e-01, 9.5819e-01, 7.4414e-01,\n",
            "         9.9545e-01, 2.0238e-02, 4.1985e-01, 2.1175e-01],\n",
            "        [5.1860e-01, 8.1647e-01, 9.2464e-01, 8.5586e-01, 9.9398e-01, 4.0947e-01,\n",
            "         7.1415e-01, 3.1705e-01, 2.3008e-01, 5.1139e-01],\n",
            "        [2.3448e-01, 8.5212e-01, 9.7577e-01, 9.8723e-01, 8.8947e-01, 1.5411e-01,\n",
            "         5.2279e-01, 4.0204e-02, 6.1202e-01, 5.3945e-01],\n",
            "        [6.3808e-03, 9.4903e-01, 3.4749e-01, 6.0432e-01, 8.9675e-01, 4.4342e-01,\n",
            "         6.2110e-01, 7.0779e-01, 9.6892e-01, 6.2725e-01],\n",
            "        [8.9338e-02, 9.1419e-02, 5.4662e-01, 8.3185e-01, 4.9737e-01, 6.5851e-01,\n",
            "         9.5980e-01, 1.8250e-02, 3.1774e-01, 7.9410e-01],\n",
            "        [2.3796e-01, 8.7824e-01, 3.4170e-01, 8.4060e-02, 9.6367e-01, 9.3342e-02,\n",
            "         5.5983e-01, 7.6178e-01, 8.2713e-01, 1.8835e-01],\n",
            "        [8.8795e-01, 6.2209e-01, 2.9556e-01, 8.1243e-01, 5.5345e-01, 3.3020e-01,\n",
            "         1.8726e-01, 4.6269e-01, 9.8939e-01, 7.8955e-01],\n",
            "        [7.3853e-02, 5.6824e-01, 8.0364e-01, 7.6432e-01, 3.9039e-01, 6.7680e-01,\n",
            "         8.9240e-01, 3.0466e-01, 7.9465e-01, 2.4583e-01],\n",
            "        [1.1494e-01, 7.8916e-01, 1.0315e-02, 5.6774e-01, 6.2793e-01, 4.7546e-01,\n",
            "         7.3385e-01, 8.7842e-01, 2.4847e-01, 3.9842e-01],\n",
            "        [2.5340e-01, 8.7838e-01, 5.9684e-01, 3.4385e-01, 5.7326e-02, 4.7647e-01,\n",
            "         8.9209e-02, 1.8142e-01, 5.3586e-01, 3.0143e-01],\n",
            "        [5.9803e-01, 8.6702e-01, 9.5444e-01, 1.1849e-01, 7.8898e-01, 1.9747e-01,\n",
            "         7.0642e-01, 6.9811e-01, 1.4939e-01, 1.8302e-01],\n",
            "        [9.9404e-02, 8.2813e-01, 6.5049e-01, 8.9944e-01, 9.1319e-02, 2.8054e-01,\n",
            "         7.1820e-01, 2.4649e-01, 8.9791e-01, 3.8005e-01],\n",
            "        [3.5958e-01, 3.7170e-01, 4.8609e-01, 2.4304e-01, 3.3496e-01, 9.1720e-01,\n",
            "         2.2291e-01, 2.8070e-01, 7.4965e-02, 9.2649e-01],\n",
            "        [3.3964e-01, 1.3635e-01, 9.1836e-01, 1.4993e-01, 3.0958e-01, 8.0174e-01,\n",
            "         7.4275e-01, 2.0808e-01, 5.7810e-01, 8.6774e-01],\n",
            "        [3.7496e-01, 7.7729e-02, 1.1296e-01, 8.2475e-01, 7.4063e-01, 7.7040e-02,\n",
            "         6.2033e-01, 7.1341e-01, 8.4192e-01, 7.4833e-01],\n",
            "        [2.3073e-01, 7.3365e-01, 5.4757e-02, 8.9328e-01, 7.1339e-01, 6.5843e-01,\n",
            "         9.8261e-01, 2.2818e-01, 4.3293e-01, 3.2998e-02],\n",
            "        [3.6991e-01, 2.8577e-01, 7.6129e-01, 2.5005e-01, 8.9991e-01, 7.0915e-01,\n",
            "         1.8037e-01, 7.4839e-01, 5.2145e-01, 6.4031e-01],\n",
            "        [4.2418e-01, 4.2441e-01, 9.9514e-01, 9.7593e-01, 2.6209e-01, 4.4928e-01,\n",
            "         1.3016e-01, 7.9828e-02, 6.3377e-01, 2.7916e-02],\n",
            "        [7.1363e-01, 2.5249e-01, 6.5010e-02, 5.4060e-01, 9.4523e-01, 4.4036e-01,\n",
            "         4.5349e-01, 4.2291e-01, 4.0737e-01, 6.1630e-01],\n",
            "        [8.4637e-01, 2.6545e-01, 5.5917e-01, 6.2134e-01, 7.6049e-01, 5.3261e-01,\n",
            "         2.1194e-02, 6.6596e-01, 5.7508e-01, 3.2832e-01],\n",
            "        [6.4716e-01, 8.0113e-01, 6.4882e-02, 2.8932e-01, 7.1044e-01, 2.6917e-01,\n",
            "         3.6270e-01, 8.2408e-01, 9.5673e-01, 3.2196e-01],\n",
            "        [6.4816e-01, 1.3753e-01, 9.3856e-01, 3.9424e-01, 2.6211e-02, 6.3695e-01,\n",
            "         9.7908e-01, 8.5196e-01, 9.8051e-01, 7.7994e-01],\n",
            "        [5.1870e-01, 3.6459e-01, 2.7380e-01, 3.7757e-01, 9.6609e-01, 7.5397e-01,\n",
            "         4.1327e-01, 6.9966e-01, 1.6524e-01, 5.5430e-01],\n",
            "        [7.1158e-01, 1.4694e-01, 5.0066e-01, 7.2742e-01, 3.7973e-01, 6.9668e-01,\n",
            "         9.0787e-01, 9.4301e-01, 1.4092e-01, 4.6578e-01],\n",
            "        [4.5591e-01, 4.2737e-01, 4.2155e-01, 5.4481e-01, 1.4859e-01, 5.3913e-01,\n",
            "         2.8839e-01, 8.1967e-01, 7.7898e-02, 9.5658e-02],\n",
            "        [6.7608e-01, 8.9252e-01, 7.0890e-01, 1.2598e-01, 8.9937e-01, 2.2967e-01,\n",
            "         4.4735e-01, 3.0257e-01, 7.3002e-01, 9.6708e-01],\n",
            "        [8.5004e-01, 4.0044e-01, 2.2155e-01, 3.7352e-01, 6.9854e-01, 1.1492e-01,\n",
            "         3.1392e-01, 6.8543e-01, 8.1316e-01, 3.2679e-01],\n",
            "        [8.7101e-01, 8.1152e-01, 4.9438e-01, 1.7534e-01, 1.1765e-01, 1.1956e-01,\n",
            "         8.6984e-02, 1.6525e-01, 9.7749e-01, 6.6272e-01],\n",
            "        [5.9109e-01, 3.8695e-01, 3.3997e-01, 6.6515e-01, 6.1273e-01, 7.1484e-01,\n",
            "         2.1496e-01, 5.9797e-01, 6.6450e-01, 7.9487e-01],\n",
            "        [8.7129e-01, 5.3602e-01, 2.0479e-01, 5.5548e-01, 7.4571e-01, 9.4960e-01,\n",
            "         4.1693e-01, 5.1490e-01, 8.0692e-02, 3.1616e-01],\n",
            "        [6.8617e-01, 6.6558e-01, 2.6240e-01, 3.4144e-01, 9.1309e-01, 9.1380e-01,\n",
            "         9.9961e-01, 5.1698e-01, 2.2952e-01, 4.3752e-01],\n",
            "        [6.5302e-01, 9.3899e-01, 3.1821e-01, 1.4021e-01, 5.8471e-01, 9.6279e-01,\n",
            "         9.7657e-01, 4.1988e-01, 2.0025e-01, 2.9203e-01],\n",
            "        [9.7516e-01, 6.5006e-01, 5.4380e-02, 2.6319e-01, 7.2401e-01, 6.2018e-01,\n",
            "         3.3166e-01, 9.3464e-01, 6.4670e-01, 6.5607e-01],\n",
            "        [1.8103e-01, 6.5010e-01, 5.1900e-01, 3.2522e-01, 3.9091e-02, 3.1035e-01,\n",
            "         5.3188e-01, 9.5118e-01, 4.1951e-01, 8.2037e-01],\n",
            "        [4.5385e-01, 1.1962e-01, 2.9689e-01, 5.1232e-01, 7.0131e-01, 7.2176e-01,\n",
            "         4.0498e-01, 8.9360e-01, 1.3130e-01, 4.6623e-01],\n",
            "        [8.3952e-01, 6.5650e-02, 7.4866e-04, 4.0014e-02, 9.5753e-01, 4.7883e-01,\n",
            "         8.6180e-01, 6.4657e-01, 3.4296e-01, 1.8824e-01],\n",
            "        [9.7457e-01, 6.2168e-01, 5.1492e-01, 1.7402e-01, 2.3436e-02, 5.2892e-01,\n",
            "         3.8490e-01, 8.9967e-01, 5.5859e-01, 9.1967e-02],\n",
            "        [6.1536e-01, 1.6171e-01, 2.5434e-01, 7.1696e-01, 1.4114e-02, 9.9777e-01,\n",
            "         8.5001e-01, 7.8189e-01, 3.0796e-02, 3.7258e-01],\n",
            "        [4.4301e-02, 5.7101e-01, 1.0911e-02, 5.3407e-01, 5.5934e-01, 8.2470e-01,\n",
            "         1.2614e-01, 3.5217e-01, 6.1093e-01, 5.4025e-01],\n",
            "        [9.4498e-01, 9.5473e-01, 7.2363e-01, 6.6487e-01, 8.4558e-01, 5.5325e-01,\n",
            "         9.1827e-01, 2.0976e-01, 9.4112e-01, 4.5574e-01],\n",
            "        [7.0485e-02, 4.7675e-02, 2.3873e-01, 4.9152e-01, 8.2907e-01, 4.7895e-02,\n",
            "         5.2218e-01, 4.1962e-01, 5.5214e-01, 7.6027e-01],\n",
            "        [7.6384e-01, 4.8991e-01, 5.3688e-01, 9.5862e-01, 3.1689e-01, 6.5504e-01,\n",
            "         7.1041e-01, 7.8855e-01, 2.1688e-01, 7.3381e-01],\n",
            "        [7.9868e-01, 2.5434e-01, 8.3593e-01, 1.2933e-02, 1.2289e-01, 9.8666e-01,\n",
            "         5.1392e-01, 6.7131e-01, 1.4932e-01, 6.7108e-02],\n",
            "        [6.6817e-01, 5.3926e-01, 9.1058e-01, 6.9917e-01, 2.6783e-01, 2.3379e-01,\n",
            "         6.5692e-01, 1.3935e-01, 9.8057e-01, 5.2023e-01]], dtype=torch.float64)\n"
          ]
        }
      ]
    },
    {
      "cell_type": "code",
      "source": [
        "# 8.\n",
        "reshape_tensor = tens_np.reshape(10,50)  # rehsape by (10,50) for exemple\n",
        "print(f\"Reshaped tensor': {clone_tensor}\")"
      ],
      "metadata": {
        "colab": {
          "base_uri": "https://localhost:8080/"
        },
        "id": "yCq-chZOtmd1",
        "outputId": "20376be8-3e3f-4f6d-bf84-0265aece2358"
      },
      "execution_count": null,
      "outputs": [
        {
          "output_type": "stream",
          "name": "stdout",
          "text": [
            "Reshaped tensor': tensor([[5.6287e-01, 9.8748e-01, 1.0630e-01, 5.9738e-02, 1.4084e-01, 9.9539e-01,\n",
            "         3.7343e-01, 1.8625e-02, 4.3422e-01, 4.5812e-01],\n",
            "        [1.0692e-02, 7.5618e-01, 6.4473e-01, 8.0701e-01, 5.7140e-01, 4.8164e-01,\n",
            "         5.4498e-01, 7.0867e-01, 2.7679e-01, 1.0243e-01],\n",
            "        [6.1804e-01, 8.5615e-01, 9.8645e-01, 3.4979e-01, 3.3810e-01, 8.5071e-01,\n",
            "         3.2813e-01, 1.0922e-01, 4.0782e-02, 8.5710e-01],\n",
            "        [6.5973e-01, 1.9140e-02, 9.0337e-01, 8.8717e-01, 7.3610e-01, 7.2711e-01,\n",
            "         9.4631e-03, 3.2778e-01, 7.9394e-01, 5.8023e-02],\n",
            "        [2.8527e-01, 2.1193e-01, 5.0779e-01, 5.7267e-01, 9.0070e-01, 9.7508e-01,\n",
            "         1.5866e-01, 7.9942e-01, 3.8944e-01, 2.0690e-01],\n",
            "        [5.9259e-01, 6.1688e-01, 6.6541e-03, 5.2996e-01, 5.0612e-01, 9.0904e-01,\n",
            "         7.9708e-01, 3.8908e-01, 9.3064e-02, 5.4490e-01],\n",
            "        [4.6071e-01, 4.1868e-01, 9.8748e-01, 1.1576e-01, 9.5819e-01, 7.4414e-01,\n",
            "         9.9545e-01, 2.0238e-02, 4.1985e-01, 2.1175e-01],\n",
            "        [5.1860e-01, 8.1647e-01, 9.2464e-01, 8.5586e-01, 9.9398e-01, 4.0947e-01,\n",
            "         7.1415e-01, 3.1705e-01, 2.3008e-01, 5.1139e-01],\n",
            "        [2.3448e-01, 8.5212e-01, 9.7577e-01, 9.8723e-01, 8.8947e-01, 1.5411e-01,\n",
            "         5.2279e-01, 4.0204e-02, 6.1202e-01, 5.3945e-01],\n",
            "        [6.3808e-03, 9.4903e-01, 3.4749e-01, 6.0432e-01, 8.9675e-01, 4.4342e-01,\n",
            "         6.2110e-01, 7.0779e-01, 9.6892e-01, 6.2725e-01],\n",
            "        [8.9338e-02, 9.1419e-02, 5.4662e-01, 8.3185e-01, 4.9737e-01, 6.5851e-01,\n",
            "         9.5980e-01, 1.8250e-02, 3.1774e-01, 7.9410e-01],\n",
            "        [2.3796e-01, 8.7824e-01, 3.4170e-01, 8.4060e-02, 9.6367e-01, 9.3342e-02,\n",
            "         5.5983e-01, 7.6178e-01, 8.2713e-01, 1.8835e-01],\n",
            "        [8.8795e-01, 6.2209e-01, 2.9556e-01, 8.1243e-01, 5.5345e-01, 3.3020e-01,\n",
            "         1.8726e-01, 4.6269e-01, 9.8939e-01, 7.8955e-01],\n",
            "        [7.3853e-02, 5.6824e-01, 8.0364e-01, 7.6432e-01, 3.9039e-01, 6.7680e-01,\n",
            "         8.9240e-01, 3.0466e-01, 7.9465e-01, 2.4583e-01],\n",
            "        [1.1494e-01, 7.8916e-01, 1.0315e-02, 5.6774e-01, 6.2793e-01, 4.7546e-01,\n",
            "         7.3385e-01, 8.7842e-01, 2.4847e-01, 3.9842e-01],\n",
            "        [2.5340e-01, 8.7838e-01, 5.9684e-01, 3.4385e-01, 5.7326e-02, 4.7647e-01,\n",
            "         8.9209e-02, 1.8142e-01, 5.3586e-01, 3.0143e-01],\n",
            "        [5.9803e-01, 8.6702e-01, 9.5444e-01, 1.1849e-01, 7.8898e-01, 1.9747e-01,\n",
            "         7.0642e-01, 6.9811e-01, 1.4939e-01, 1.8302e-01],\n",
            "        [9.9404e-02, 8.2813e-01, 6.5049e-01, 8.9944e-01, 9.1319e-02, 2.8054e-01,\n",
            "         7.1820e-01, 2.4649e-01, 8.9791e-01, 3.8005e-01],\n",
            "        [3.5958e-01, 3.7170e-01, 4.8609e-01, 2.4304e-01, 3.3496e-01, 9.1720e-01,\n",
            "         2.2291e-01, 2.8070e-01, 7.4965e-02, 9.2649e-01],\n",
            "        [3.3964e-01, 1.3635e-01, 9.1836e-01, 1.4993e-01, 3.0958e-01, 8.0174e-01,\n",
            "         7.4275e-01, 2.0808e-01, 5.7810e-01, 8.6774e-01],\n",
            "        [3.7496e-01, 7.7729e-02, 1.1296e-01, 8.2475e-01, 7.4063e-01, 7.7040e-02,\n",
            "         6.2033e-01, 7.1341e-01, 8.4192e-01, 7.4833e-01],\n",
            "        [2.3073e-01, 7.3365e-01, 5.4757e-02, 8.9328e-01, 7.1339e-01, 6.5843e-01,\n",
            "         9.8261e-01, 2.2818e-01, 4.3293e-01, 3.2998e-02],\n",
            "        [3.6991e-01, 2.8577e-01, 7.6129e-01, 2.5005e-01, 8.9991e-01, 7.0915e-01,\n",
            "         1.8037e-01, 7.4839e-01, 5.2145e-01, 6.4031e-01],\n",
            "        [4.2418e-01, 4.2441e-01, 9.9514e-01, 9.7593e-01, 2.6209e-01, 4.4928e-01,\n",
            "         1.3016e-01, 7.9828e-02, 6.3377e-01, 2.7916e-02],\n",
            "        [7.1363e-01, 2.5249e-01, 6.5010e-02, 5.4060e-01, 9.4523e-01, 4.4036e-01,\n",
            "         4.5349e-01, 4.2291e-01, 4.0737e-01, 6.1630e-01],\n",
            "        [8.4637e-01, 2.6545e-01, 5.5917e-01, 6.2134e-01, 7.6049e-01, 5.3261e-01,\n",
            "         2.1194e-02, 6.6596e-01, 5.7508e-01, 3.2832e-01],\n",
            "        [6.4716e-01, 8.0113e-01, 6.4882e-02, 2.8932e-01, 7.1044e-01, 2.6917e-01,\n",
            "         3.6270e-01, 8.2408e-01, 9.5673e-01, 3.2196e-01],\n",
            "        [6.4816e-01, 1.3753e-01, 9.3856e-01, 3.9424e-01, 2.6211e-02, 6.3695e-01,\n",
            "         9.7908e-01, 8.5196e-01, 9.8051e-01, 7.7994e-01],\n",
            "        [5.1870e-01, 3.6459e-01, 2.7380e-01, 3.7757e-01, 9.6609e-01, 7.5397e-01,\n",
            "         4.1327e-01, 6.9966e-01, 1.6524e-01, 5.5430e-01],\n",
            "        [7.1158e-01, 1.4694e-01, 5.0066e-01, 7.2742e-01, 3.7973e-01, 6.9668e-01,\n",
            "         9.0787e-01, 9.4301e-01, 1.4092e-01, 4.6578e-01],\n",
            "        [4.5591e-01, 4.2737e-01, 4.2155e-01, 5.4481e-01, 1.4859e-01, 5.3913e-01,\n",
            "         2.8839e-01, 8.1967e-01, 7.7898e-02, 9.5658e-02],\n",
            "        [6.7608e-01, 8.9252e-01, 7.0890e-01, 1.2598e-01, 8.9937e-01, 2.2967e-01,\n",
            "         4.4735e-01, 3.0257e-01, 7.3002e-01, 9.6708e-01],\n",
            "        [8.5004e-01, 4.0044e-01, 2.2155e-01, 3.7352e-01, 6.9854e-01, 1.1492e-01,\n",
            "         3.1392e-01, 6.8543e-01, 8.1316e-01, 3.2679e-01],\n",
            "        [8.7101e-01, 8.1152e-01, 4.9438e-01, 1.7534e-01, 1.1765e-01, 1.1956e-01,\n",
            "         8.6984e-02, 1.6525e-01, 9.7749e-01, 6.6272e-01],\n",
            "        [5.9109e-01, 3.8695e-01, 3.3997e-01, 6.6515e-01, 6.1273e-01, 7.1484e-01,\n",
            "         2.1496e-01, 5.9797e-01, 6.6450e-01, 7.9487e-01],\n",
            "        [8.7129e-01, 5.3602e-01, 2.0479e-01, 5.5548e-01, 7.4571e-01, 9.4960e-01,\n",
            "         4.1693e-01, 5.1490e-01, 8.0692e-02, 3.1616e-01],\n",
            "        [6.8617e-01, 6.6558e-01, 2.6240e-01, 3.4144e-01, 9.1309e-01, 9.1380e-01,\n",
            "         9.9961e-01, 5.1698e-01, 2.2952e-01, 4.3752e-01],\n",
            "        [6.5302e-01, 9.3899e-01, 3.1821e-01, 1.4021e-01, 5.8471e-01, 9.6279e-01,\n",
            "         9.7657e-01, 4.1988e-01, 2.0025e-01, 2.9203e-01],\n",
            "        [9.7516e-01, 6.5006e-01, 5.4380e-02, 2.6319e-01, 7.2401e-01, 6.2018e-01,\n",
            "         3.3166e-01, 9.3464e-01, 6.4670e-01, 6.5607e-01],\n",
            "        [1.8103e-01, 6.5010e-01, 5.1900e-01, 3.2522e-01, 3.9091e-02, 3.1035e-01,\n",
            "         5.3188e-01, 9.5118e-01, 4.1951e-01, 8.2037e-01],\n",
            "        [4.5385e-01, 1.1962e-01, 2.9689e-01, 5.1232e-01, 7.0131e-01, 7.2176e-01,\n",
            "         4.0498e-01, 8.9360e-01, 1.3130e-01, 4.6623e-01],\n",
            "        [8.3952e-01, 6.5650e-02, 7.4866e-04, 4.0014e-02, 9.5753e-01, 4.7883e-01,\n",
            "         8.6180e-01, 6.4657e-01, 3.4296e-01, 1.8824e-01],\n",
            "        [9.7457e-01, 6.2168e-01, 5.1492e-01, 1.7402e-01, 2.3436e-02, 5.2892e-01,\n",
            "         3.8490e-01, 8.9967e-01, 5.5859e-01, 9.1967e-02],\n",
            "        [6.1536e-01, 1.6171e-01, 2.5434e-01, 7.1696e-01, 1.4114e-02, 9.9777e-01,\n",
            "         8.5001e-01, 7.8189e-01, 3.0796e-02, 3.7258e-01],\n",
            "        [4.4301e-02, 5.7101e-01, 1.0911e-02, 5.3407e-01, 5.5934e-01, 8.2470e-01,\n",
            "         1.2614e-01, 3.5217e-01, 6.1093e-01, 5.4025e-01],\n",
            "        [9.4498e-01, 9.5473e-01, 7.2363e-01, 6.6487e-01, 8.4558e-01, 5.5325e-01,\n",
            "         9.1827e-01, 2.0976e-01, 9.4112e-01, 4.5574e-01],\n",
            "        [7.0485e-02, 4.7675e-02, 2.3873e-01, 4.9152e-01, 8.2907e-01, 4.7895e-02,\n",
            "         5.2218e-01, 4.1962e-01, 5.5214e-01, 7.6027e-01],\n",
            "        [7.6384e-01, 4.8991e-01, 5.3688e-01, 9.5862e-01, 3.1689e-01, 6.5504e-01,\n",
            "         7.1041e-01, 7.8855e-01, 2.1688e-01, 7.3381e-01],\n",
            "        [7.9868e-01, 2.5434e-01, 8.3593e-01, 1.2933e-02, 1.2289e-01, 9.8666e-01,\n",
            "         5.1392e-01, 6.7131e-01, 1.4932e-01, 6.7108e-02],\n",
            "        [6.6817e-01, 5.3926e-01, 9.1058e-01, 6.9917e-01, 2.6783e-01, 2.3379e-01,\n",
            "         6.5692e-01, 1.3935e-01, 9.8057e-01, 5.2023e-01]], dtype=torch.float64)\n"
          ]
        }
      ]
    },
    {
      "cell_type": "code",
      "source": [
        "# 9.\n",
        "lst_1= [1,2,3,4]\n",
        "lst_2 = [5,6,7,8]\n",
        "tensor_1 = torch.tensor(lst_1)\n",
        "tensor_2 = torch.tensor(lst_2)\n",
        "concat_tensor = torch.cat((tensor_1, tensor_2), dim=0)\n",
        "print(f\"Concatenated two tensors': {concat_tensor}\")"
      ],
      "metadata": {
        "colab": {
          "base_uri": "https://localhost:8080/"
        },
        "id": "ZawJJbX1tmZT",
        "outputId": "b8abb560-5f10-44aa-9c7a-ef65aaed6004"
      },
      "execution_count": null,
      "outputs": [
        {
          "output_type": "stream",
          "name": "stdout",
          "text": [
            "Concatenated two tensors': tensor([1, 2, 3, 4, 5, 6, 7, 8])\n"
          ]
        }
      ]
    },
    {
      "cell_type": "code",
      "source": [
        "# 10.\n",
        "tensor_1_2 = torch.tensor(lst_1, dtype=torch.int32)\n",
        "tensor_2_2 = torch.tensor(lst_2, dtype=torch.float32)\n",
        "result_1 = tensor_1_2.float() + tensor_2_2\n",
        "result_2 = tensor_1_2.float() - tensor_2_2\n",
        "result_3 = tensor_1_2.float() * tensor_2_2\n",
        "result_4 = tensor_1_2.float() / tensor_2_2\n",
        "print(f\"Operation with different data types': {result_1, result_2, result_3, result_4}\")\n"
      ],
      "metadata": {
        "colab": {
          "base_uri": "https://localhost:8080/"
        },
        "id": "fw6wo477tmLp",
        "outputId": "c942f5fa-f37c-456f-9c04-103810282732"
      },
      "execution_count": null,
      "outputs": [
        {
          "output_type": "stream",
          "name": "stdout",
          "text": [
            "Operation with different data types': (tensor([ 6.,  8., 10., 12.]), tensor([-4., -4., -4., -4.]), tensor([ 5., 12., 21., 32.]), tensor([0.2000, 0.3333, 0.4286, 0.5000]))\n"
          ]
        }
      ]
    },
    {
      "cell_type": "markdown",
      "metadata": {
        "id": "TvL6c_cEboV_"
      },
      "source": [
        "1. Inspect the  attributes of some of the tensors you created with `shape,dtype,numel`.\n",
        "2. Indexing to access specific elements: `[[1, 2, 3], [4, 5, 6]]`, get the '2' element.\n",
        "\n",
        "3. Modify modify the '5' element to '10'\n",
        "4. Apply element-wise addition to two tensors.\n",
        "5. Apply element-wise multiplication to two tensors\n",
        "6. Apply a square root to a tensor.\n",
        "7. Create a tensor with random values from a uniform distribution between 0 and 1.\n",
        "8. Create a tensor with random values from a normal distribution with mean 0 and standard deviation 1\n",
        "9. Create a tensor with random values from a discrete uniform distribution between 1 and 10.\n",
        "10. Reshape a tensor from size `(2, 3)` to `(3, 2)`\n",
        "11. Transpose a tensor\n",
        "12. Concatenate tensors along a specific dimension\n",
        "13. Stack tensors along a new dimension\n"
      ]
    },
    {
      "cell_type": "code",
      "execution_count": null,
      "metadata": {
        "id": "d_eeWx27eLGJ",
        "colab": {
          "base_uri": "https://localhost:8080/"
        },
        "outputId": "d7f85b29-a2f5-4a24-aebf-e95da287e1de"
      },
      "outputs": [
        {
          "output_type": "stream",
          "name": "stdout",
          "text": [
            "Shape: torch.Size([2, 3]), Data type: torch.int64, Number of elements: 6\n"
          ]
        }
      ],
      "source": [
        "# YOUR CODE HERE\n",
        "\n",
        "import torch\n",
        "\n",
        "\n",
        "# 1.\n",
        "tensor_a = torch.tensor([[1, 2, 3], [4, 5, 6]])\n",
        "print(f\"Shape: {tensor_a.shape}, Data type: {tensor_a.dtype}, Number of elements: {tensor_a.numel()}\")\n"
      ]
    },
    {
      "cell_type": "code",
      "source": [
        "# 2.\n",
        "element_2 = tensor_a[0, 1]\n",
        "print(f\"Element 2: {element_2}\")\n"
      ],
      "metadata": {
        "colab": {
          "base_uri": "https://localhost:8080/"
        },
        "id": "aUu1A36uAhku",
        "outputId": "4de144ba-a172-4336-d0e6-f645922c1474"
      },
      "execution_count": null,
      "outputs": [
        {
          "output_type": "stream",
          "name": "stdout",
          "text": [
            "Element 2: 2\n"
          ]
        }
      ]
    },
    {
      "cell_type": "code",
      "source": [
        "# 3.\n",
        "tensor_a[1, 1] = 10\n",
        "print(f\"New tensor: {tensor_1}\")"
      ],
      "metadata": {
        "colab": {
          "base_uri": "https://localhost:8080/"
        },
        "id": "_bY0za15AhhX",
        "outputId": "9a7c9b4d-7448-43c4-c999-523a3d88b302"
      },
      "execution_count": null,
      "outputs": [
        {
          "output_type": "stream",
          "name": "stdout",
          "text": [
            "New tensor: tensor([1, 2, 3, 4])\n"
          ]
        }
      ]
    },
    {
      "cell_type": "code",
      "source": [
        "# 4.\n",
        "tensor_b = torch.tensor([[7, 8, 9], [1, 2, 3]])\n",
        "add_tensors = tensor_a + tensor_b\n",
        "print(f\"Addition tensors: {add_tensors}\")"
      ],
      "metadata": {
        "colab": {
          "base_uri": "https://localhost:8080/"
        },
        "id": "Qy4IQtayAheZ",
        "outputId": "d6cb51ba-5978-45cd-d109-c3502857a196"
      },
      "execution_count": null,
      "outputs": [
        {
          "output_type": "stream",
          "name": "stdout",
          "text": [
            "Addition tensors: tensor([[ 8, 10, 12],\n",
            "        [ 5, 12,  9]])\n"
          ]
        }
      ]
    },
    {
      "cell_type": "code",
      "source": [
        "# 5.\n",
        "mult_tensors = tensor_a * tensor_b\n",
        "print(f\"Multiplication tensors: {mult_tensors}\")"
      ],
      "metadata": {
        "colab": {
          "base_uri": "https://localhost:8080/"
        },
        "id": "irk1KiZiAhbW",
        "outputId": "0bd68395-f386-40d4-9d6f-0c4d49295729"
      },
      "execution_count": null,
      "outputs": [
        {
          "output_type": "stream",
          "name": "stdout",
          "text": [
            "Multiplication tensors: tensor([[ 7, 16, 27],\n",
            "        [ 4, 20, 18]])\n"
          ]
        }
      ]
    },
    {
      "cell_type": "code",
      "source": [
        "# 6.\n",
        "sqrt_tensor = torch.sqrt(tensor_a.float())\n",
        "print(f\"Square root tensor: {sqrt_tensor}\")"
      ],
      "metadata": {
        "colab": {
          "base_uri": "https://localhost:8080/"
        },
        "id": "tNMEdsfhAhYV",
        "outputId": "3248a834-b32a-47bf-e945-bfd20233d43b"
      },
      "execution_count": null,
      "outputs": [
        {
          "output_type": "stream",
          "name": "stdout",
          "text": [
            "Square root tensor: tensor([[1.0000, 1.4142, 1.7321],\n",
            "        [2.0000, 3.1623, 2.4495]])\n"
          ]
        }
      ]
    },
    {
      "cell_type": "code",
      "source": [
        "# 7.\n",
        "uniform_tensor = torch.rand(2, 2)\n",
        "print(f\"Uniform tensor: {uniform_tensor}\")"
      ],
      "metadata": {
        "colab": {
          "base_uri": "https://localhost:8080/"
        },
        "id": "Vgm74aZ9AhVf",
        "outputId": "e2a5e118-1ced-42b5-b93b-672173e7ed7f"
      },
      "execution_count": null,
      "outputs": [
        {
          "output_type": "stream",
          "name": "stdout",
          "text": [
            "Uniform tensor: tensor([[0.4904, 0.0321],\n",
            "        [0.0397, 0.4037]])\n"
          ]
        }
      ]
    },
    {
      "cell_type": "code",
      "source": [
        "# 8.\n",
        "normal_tensor = torch.randn(2, 2)\n",
        "print(f\"Normal tensor: {normal_tensor}\")"
      ],
      "metadata": {
        "colab": {
          "base_uri": "https://localhost:8080/"
        },
        "id": "9a5y6rFeAhPv",
        "outputId": "93304c8f-c252-4f1e-b0b4-3a3a164c7a5e"
      },
      "execution_count": null,
      "outputs": [
        {
          "output_type": "stream",
          "name": "stdout",
          "text": [
            "Normal tensor: tensor([[ 1.0677, -0.8929],\n",
            "        [ 1.1502, -0.5505]])\n"
          ]
        }
      ]
    },
    {
      "cell_type": "code",
      "source": [
        "# 9.\n",
        "discrete_uniform_tensor = torch.randint(1, 11, (2, 2))\n",
        "print(f\"Discrete uniform tensor: {discrete_uniform_tensor}\")"
      ],
      "metadata": {
        "colab": {
          "base_uri": "https://localhost:8080/"
        },
        "id": "qP7QQKA9AhMr",
        "outputId": "40459de8-c85b-4f04-8080-bfca13052b48"
      },
      "execution_count": null,
      "outputs": [
        {
          "output_type": "stream",
          "name": "stdout",
          "text": [
            "Discrete uniform tensor: tensor([[10,  3],\n",
            "        [ 6,  9]])\n"
          ]
        }
      ]
    },
    {
      "cell_type": "code",
      "source": [
        "# 10.\n",
        "reshaped_tensor = tensor_a.reshape(3, 2)\n",
        "print(f\"Reshaped tensor: {reshaped_tensor}\")\n"
      ],
      "metadata": {
        "colab": {
          "base_uri": "https://localhost:8080/"
        },
        "id": "f_5tqoKRAhJt",
        "outputId": "6a397033-d4f5-4775-ffdf-24df77a4cee6"
      },
      "execution_count": null,
      "outputs": [
        {
          "output_type": "stream",
          "name": "stdout",
          "text": [
            "Reshaped tensor: tensor([[ 1,  2],\n",
            "        [ 3,  4],\n",
            "        [10,  6]])\n"
          ]
        }
      ]
    },
    {
      "cell_type": "code",
      "source": [
        "# 11.\n",
        "tensor_t = tensor_a.t()\n",
        "print(f\"Transposed tensor: {tensor_t}\")"
      ],
      "metadata": {
        "colab": {
          "base_uri": "https://localhost:8080/"
        },
        "id": "qV0FA1qXAhFz",
        "outputId": "1c8f4cd7-6282-43ac-bcb3-4ac273b6c00a"
      },
      "execution_count": null,
      "outputs": [
        {
          "output_type": "stream",
          "name": "stdout",
          "text": [
            "Transposed tensor: tensor([[ 1,  4],\n",
            "        [ 2, 10],\n",
            "        [ 3,  6]])\n"
          ]
        }
      ]
    },
    {
      "cell_type": "code",
      "source": [
        "# 12.\n",
        "conc_tensor = torch.cat((tensor_a, tensor_b), dim=1)\n",
        "print(f\"Concatenated tensor: {conc_tensor}\")"
      ],
      "metadata": {
        "colab": {
          "base_uri": "https://localhost:8080/"
        },
        "id": "lGgsPiH6BQ9C",
        "outputId": "24726d40-7a02-4560-843b-a0450ee06a4a"
      },
      "execution_count": null,
      "outputs": [
        {
          "output_type": "stream",
          "name": "stdout",
          "text": [
            "Concatenated tensor: tensor([[ 1,  2,  3,  7,  8,  9],\n",
            "        [ 4, 10,  6,  1,  2,  3]])\n"
          ]
        }
      ]
    },
    {
      "cell_type": "code",
      "source": [
        "# 13.\n",
        "stack_tensor = torch.stack((tensor_a, tensor_b), dim=2)\n",
        "print(f\"Stacked tensor: {stack_tensor}\")\n"
      ],
      "metadata": {
        "colab": {
          "base_uri": "https://localhost:8080/"
        },
        "id": "uO2x17IpBQyH",
        "outputId": "5fa4a99f-a790-4315-dd96-84f36cb1dd68"
      },
      "execution_count": null,
      "outputs": [
        {
          "output_type": "stream",
          "name": "stdout",
          "text": [
            "Stacked tensor: tensor([[[ 1,  7],\n",
            "         [ 2,  8],\n",
            "         [ 3,  9]],\n",
            "\n",
            "        [[ 4,  1],\n",
            "         [10,  2],\n",
            "         [ 6,  3]]])\n"
          ]
        }
      ]
    },
    {
      "cell_type": "markdown",
      "metadata": {
        "id": "q5Ag4aLvd186"
      },
      "source": [
        "1. Sum of all elements in a tensor.\n",
        "2. Mean along a specific dimension\n",
        "3. Find the minimum and maximum values in a tensor\n",
        "4. Find the indices of minimum and maximum values in a tensor\n"
      ]
    },
    {
      "cell_type": "code",
      "execution_count": null,
      "metadata": {
        "id": "YS_zcuzPeL2y",
        "colab": {
          "base_uri": "https://localhost:8080/"
        },
        "outputId": "01a93eb4-9a2c-462b-ed54-4065101c55e5"
      },
      "outputs": [
        {
          "output_type": "stream",
          "name": "stdout",
          "text": [
            "Sum of all elements in tensor_a: 26\n"
          ]
        }
      ],
      "source": [
        "# YOUR CODE HERE\n",
        "\n",
        "import torch\n",
        "\n",
        "# 1.\n",
        "sum_tensor_a = tensor_a.sum()\n",
        "print(f\"Sum of all elements in tensor_a: {sum_tensor_a}\")\n"
      ]
    },
    {
      "cell_type": "code",
      "source": [
        "# 2.\n",
        "mean_along_dim_0 = tensor_a.float().mean(dim=0)\n",
        "print(f\"Mean along dimension 0: {mean_along_dim_0}\")"
      ],
      "metadata": {
        "colab": {
          "base_uri": "https://localhost:8080/"
        },
        "id": "rwmDZ_P3GuhS",
        "outputId": "5e91016d-9ea1-41c5-a7a0-d805cd922613"
      },
      "execution_count": null,
      "outputs": [
        {
          "output_type": "stream",
          "name": "stdout",
          "text": [
            "Mean along dimension 0: tensor([2.5000, 6.0000, 4.5000])\n"
          ]
        }
      ]
    },
    {
      "cell_type": "code",
      "source": [
        "# 3.\n",
        "min_value = tensor_a.min()\n",
        "max_value = tensor_a.max()\n",
        "print(f\"Minimum value: {min_value}, Maximum value: {max_value}\")"
      ],
      "metadata": {
        "colab": {
          "base_uri": "https://localhost:8080/"
        },
        "id": "jN1KWO9VGuSd",
        "outputId": "8d3c60f8-0e48-4411-8fd0-2b416531d8a0"
      },
      "execution_count": null,
      "outputs": [
        {
          "output_type": "stream",
          "name": "stdout",
          "text": [
            "Minimum value: 1, Maximum value: 10\n"
          ]
        }
      ]
    },
    {
      "cell_type": "code",
      "source": [
        "# 4.\n",
        "min_indices = tensor_a.argmin()\n",
        "max_indices = tensor_a.argmax()\n",
        "print(f\"Indices of minimum value: {min_indices}, Indices of maximum value: {max_indices}\")"
      ],
      "metadata": {
        "colab": {
          "base_uri": "https://localhost:8080/"
        },
        "id": "5lpoVf0XGuGi",
        "outputId": "9dfabaa8-013b-49b1-f2f9-a8d4d4e62037"
      },
      "execution_count": null,
      "outputs": [
        {
          "output_type": "stream",
          "name": "stdout",
          "text": [
            "Indices of minimum value: 0, Indices of maximum value: 4\n"
          ]
        }
      ]
    },
    {
      "cell_type": "markdown",
      "metadata": {
        "id": "ZUhF40qoc9lh"
      },
      "source": [
        "Broadcasting:"
      ]
    },
    {
      "cell_type": "code",
      "execution_count": null,
      "metadata": {
        "colab": {
          "base_uri": "https://localhost:8080/"
        },
        "id": "WZ3jXo9F7YyB",
        "outputId": "ee0f98fa-870b-463f-a472-f08bf0f0ed41"
      },
      "outputs": [
        {
          "output_type": "stream",
          "name": "stdout",
          "text": [
            "Broadcasting with scalars:\n",
            "tensor([6, 7, 8])\n",
            "Broadcasting with different shapes:\n",
            "tensor([[11, 22, 33],\n",
            "        [14, 25, 36]])\n"
          ]
        }
      ],
      "source": [
        "\n",
        "# Broadcasting with scalars\n",
        "tensor_a = torch.tensor([1, 2, 3])\n",
        "scalar_b = 5\n",
        "result_broadcast_scalar = tensor_a + scalar_b\n",
        "print(\"Broadcasting with scalars:\")\n",
        "print(result_broadcast_scalar)  # Output: tensor([6, 7, 8])\n",
        "\n",
        "# Broadcasting with different shapes\n",
        "tensor_c = torch.tensor([[1, 2, 3], [4, 5, 6]])\n",
        "tensor_d = torch.tensor([10, 20, 30])\n",
        "result_broadcast_shape = tensor_c + tensor_d\n",
        "print(\"Broadcasting with different shapes:\")\n",
        "print(result_broadcast_shape)"
      ]
    },
    {
      "cell_type": "code",
      "execution_count": null,
      "metadata": {
        "colab": {
          "base_uri": "https://localhost:8080/"
        },
        "id": "CTTx-zG3dFzd",
        "outputId": "a1a7789d-af85-4a3d-d606-c0e10e8a2af8"
      },
      "outputs": [
        {
          "output_type": "stream",
          "name": "stdout",
          "text": [
            "Broadcasting with multidimensional tensors:\n",
            "tensor([[11, 22, 33],\n",
            "        [14, 25, 36]])\n",
            "RuntimeError: The size of tensor a (3) must match the size of tensor b (2) at non-singleton dimension 1\n"
          ]
        }
      ],
      "source": [
        "# Broadcasting with multidimensional tensors\n",
        "tensor_a = torch.tensor([[1, 2, 3], [4, 5, 6]])\n",
        "tensor_b = torch.tensor([10, 20, 30])\n",
        "result_broadcast = tensor_a + tensor_b\n",
        "print(\"Broadcasting with multidimensional tensors:\")\n",
        "print(result_broadcast)\n",
        "\n",
        "# Common broadcasting pitfalls\n",
        "tensor_c = torch.tensor([[1, 2, 3], [4, 5, 6]])\n",
        "tensor_d = torch.tensor([10, 20])\n",
        "# The following line will raise a RuntimeError\n",
        "try:\n",
        "    result_pitfall = tensor_c + tensor_d\n",
        "except RuntimeError as e:\n",
        "    print(\"RuntimeError:\", e)"
      ]
    },
    {
      "cell_type": "markdown",
      "metadata": {
        "id": "d8XnR20UdL9x"
      },
      "source": [
        "Device specification"
      ]
    },
    {
      "cell_type": "code",
      "execution_count": null,
      "metadata": {
        "colab": {
          "base_uri": "https://localhost:8080/"
        },
        "id": "UmOPlcDndLei",
        "outputId": "1493ee3e-800a-4c94-806b-613713d2c65b"
      },
      "outputs": [
        {
          "output_type": "stream",
          "name": "stdout",
          "text": [
            "Is GPU available? False\n",
            "Tensor on GPU: tensor([1, 2, 3])\n"
          ]
        }
      ],
      "source": [
        "# Code examples for device configuration and availability\n",
        "\n",
        "# Check if GPU is available\n",
        "is_gpu_available = torch.cuda.is_available()\n",
        "print(\"Is GPU available?\", is_gpu_available)\n",
        "\n",
        "# Specify device for tensor operations\n",
        "device = torch.device('cuda' if is_gpu_available else 'cpu')\n",
        "tensor_gpu = torch.tensor([1, 2, 3], device=device)\n",
        "print(\"Tensor on GPU:\", tensor_gpu)\n"
      ]
    },
    {
      "cell_type": "markdown",
      "metadata": {
        "id": "aTb9_VWsgCkv"
      },
      "source": [
        "Dataloader practice:"
      ]
    },
    {
      "cell_type": "markdown",
      "metadata": {
        "id": "A-XSmZ7Tffq2"
      },
      "source": [
        "Using the Fashion MNIST dataloader object, iterate over the batches, and calculate an interesting statistic. Make sure the statistic represent the entire data, not just a single batch. Hint- find a way to \"update\" the statistic along the batches."
      ]
    },
    {
      "cell_type": "markdown",
      "source": [
        "For this question I'm going to calculate for the Fashion MNIST dataset the percentage of bright pixels, I fixed a threshold of 0.5 (between 0 and 1). Above this thereshold, I consider that the pixel is bright."
      ],
      "metadata": {
        "id": "FWIxrreZRMYd"
      }
    },
    {
      "cell_type": "code",
      "source": [
        "import torch\n",
        "from torchvision import datasets, transforms\n",
        "from torch.utils.data import DataLoader\n",
        "\n",
        "\n",
        "data = datasets.FashionMNIST(\n",
        "    root=\"data\",\n",
        "    train=True,\n",
        "    download=True,\n",
        "    transform=ToTensor())\n",
        "\n",
        "threshold = 0.5\n",
        "\n",
        "tot_bright_pixels = 0\n",
        "tot_pixels = 0\n",
        "\n",
        "for image, _ in data:\n",
        "    bright_pixels = (image > threshold).sum().item()\n",
        "    tot_bright_pixels += bright_pixels\n",
        "    tot_pixels += image.numel()\n",
        "\n",
        "bright_perc = (tot_bright_pixels / tot_pixels) * 100\n",
        "print(f\"The percentage of bright pixels in Fashion MNIST dataset is: {bright_perc:.2f}%\")\n"
      ],
      "metadata": {
        "colab": {
          "base_uri": "https://localhost:8080/"
        },
        "id": "rE0Nn90EMbtd",
        "outputId": "85440b17-584f-4a58-c183-a73e14d16bb3"
      },
      "execution_count": null,
      "outputs": [
        {
          "output_type": "stream",
          "name": "stdout",
          "text": [
            "The percentage of bright pixels in Fashion MNIST dataset is: 31.47%\n"
          ]
        }
      ]
    },
    {
      "cell_type": "markdown",
      "metadata": {
        "id": "NrhHnCUOXeTY"
      },
      "source": [
        "## How to export an `HTML` file of your `ipynb`\n"
      ]
    },
    {
      "cell_type": "markdown",
      "metadata": {
        "id": "-yvoSJjmXqah"
      },
      "source": [
        "1. Save your notebook and make sure all the cells have the expected output.\n",
        "2. Download your notebook to your local machine.   `File-->Download-->Download ipynb`\n",
        "3.  Reupload it so Colab can see it :  Click on the Files icon on the far left bar--> you should see your current kernel folder --> click `upload to session storage` --> upload your file.\n",
        "4. Execute the following: `!jupyter nbconvert --to html /content/NOTEBOOKFILE.ipynb`\n",
        "5. You should see the html file produced in your kernel's current folder. You can download it locally.\n",
        "[link text](https://)"
      ]
    },
    {
      "cell_type": "markdown",
      "metadata": {
        "id": "ZKpF6F5E741a"
      },
      "source": [
        " END OF PyTorch BASICS"
      ]
    },
    {
      "cell_type": "code",
      "source": [
        "!pip install nbconvert\n"
      ],
      "metadata": {
        "colab": {
          "base_uri": "https://localhost:8080/"
        },
        "id": "8P6VXZCWW_RC",
        "outputId": "eec2970a-0f9e-495a-9811-0ea9df3aad4b"
      },
      "execution_count": 129,
      "outputs": [
        {
          "output_type": "stream",
          "name": "stdout",
          "text": [
            "Requirement already satisfied: nbconvert in /usr/local/lib/python3.10/dist-packages (7.16.4)\n",
            "Requirement already satisfied: beautifulsoup4 in /usr/local/lib/python3.10/dist-packages (from nbconvert) (4.12.3)\n",
            "Requirement already satisfied: bleach!=5.0.0 in /usr/local/lib/python3.10/dist-packages (from nbconvert) (6.2.0)\n",
            "Requirement already satisfied: defusedxml in /usr/local/lib/python3.10/dist-packages (from nbconvert) (0.7.1)\n",
            "Requirement already satisfied: jinja2>=3.0 in /usr/local/lib/python3.10/dist-packages (from nbconvert) (3.1.4)\n",
            "Requirement already satisfied: jupyter-core>=4.7 in /usr/local/lib/python3.10/dist-packages (from nbconvert) (5.7.2)\n",
            "Requirement already satisfied: jupyterlab-pygments in /usr/local/lib/python3.10/dist-packages (from nbconvert) (0.3.0)\n",
            "Requirement already satisfied: markupsafe>=2.0 in /usr/local/lib/python3.10/dist-packages (from nbconvert) (3.0.2)\n",
            "Requirement already satisfied: mistune<4,>=2.0.3 in /usr/local/lib/python3.10/dist-packages (from nbconvert) (3.0.2)\n",
            "Requirement already satisfied: nbclient>=0.5.0 in /usr/local/lib/python3.10/dist-packages (from nbconvert) (0.10.0)\n",
            "Requirement already satisfied: nbformat>=5.7 in /usr/local/lib/python3.10/dist-packages (from nbconvert) (5.10.4)\n",
            "Requirement already satisfied: packaging in /usr/local/lib/python3.10/dist-packages (from nbconvert) (24.1)\n",
            "Requirement already satisfied: pandocfilters>=1.4.1 in /usr/local/lib/python3.10/dist-packages (from nbconvert) (1.5.1)\n",
            "Requirement already satisfied: pygments>=2.4.1 in /usr/local/lib/python3.10/dist-packages (from nbconvert) (2.18.0)\n",
            "Requirement already satisfied: tinycss2 in /usr/local/lib/python3.10/dist-packages (from nbconvert) (1.4.0)\n",
            "Requirement already satisfied: traitlets>=5.1 in /usr/local/lib/python3.10/dist-packages (from nbconvert) (5.7.1)\n",
            "Requirement already satisfied: webencodings in /usr/local/lib/python3.10/dist-packages (from bleach!=5.0.0->nbconvert) (0.5.1)\n",
            "Requirement already satisfied: platformdirs>=2.5 in /usr/local/lib/python3.10/dist-packages (from jupyter-core>=4.7->nbconvert) (4.3.6)\n",
            "Requirement already satisfied: jupyter-client>=6.1.12 in /usr/local/lib/python3.10/dist-packages (from nbclient>=0.5.0->nbconvert) (6.1.12)\n",
            "Requirement already satisfied: fastjsonschema>=2.15 in /usr/local/lib/python3.10/dist-packages (from nbformat>=5.7->nbconvert) (2.20.0)\n",
            "Requirement already satisfied: jsonschema>=2.6 in /usr/local/lib/python3.10/dist-packages (from nbformat>=5.7->nbconvert) (4.23.0)\n",
            "Requirement already satisfied: soupsieve>1.2 in /usr/local/lib/python3.10/dist-packages (from beautifulsoup4->nbconvert) (2.6)\n",
            "Requirement already satisfied: attrs>=22.2.0 in /usr/local/lib/python3.10/dist-packages (from jsonschema>=2.6->nbformat>=5.7->nbconvert) (24.2.0)\n",
            "Requirement already satisfied: jsonschema-specifications>=2023.03.6 in /usr/local/lib/python3.10/dist-packages (from jsonschema>=2.6->nbformat>=5.7->nbconvert) (2024.10.1)\n",
            "Requirement already satisfied: referencing>=0.28.4 in /usr/local/lib/python3.10/dist-packages (from jsonschema>=2.6->nbformat>=5.7->nbconvert) (0.35.1)\n",
            "Requirement already satisfied: rpds-py>=0.7.1 in /usr/local/lib/python3.10/dist-packages (from jsonschema>=2.6->nbformat>=5.7->nbconvert) (0.20.0)\n",
            "Requirement already satisfied: pyzmq>=13 in /usr/local/lib/python3.10/dist-packages (from jupyter-client>=6.1.12->nbclient>=0.5.0->nbconvert) (24.0.1)\n",
            "Requirement already satisfied: python-dateutil>=2.1 in /usr/local/lib/python3.10/dist-packages (from jupyter-client>=6.1.12->nbclient>=0.5.0->nbconvert) (2.8.2)\n",
            "Requirement already satisfied: tornado>=4.1 in /usr/local/lib/python3.10/dist-packages (from jupyter-client>=6.1.12->nbclient>=0.5.0->nbconvert) (6.3.3)\n",
            "Requirement already satisfied: six>=1.5 in /usr/local/lib/python3.10/dist-packages (from python-dateutil>=2.1->jupyter-client>=6.1.12->nbclient>=0.5.0->nbconvert) (1.16.0)\n"
          ]
        }
      ]
    },
    {
      "cell_type": "code",
      "source": [
        "!jupyter nbconvert --to html /content/PS0_PyTorch_basics_2024_Fall_ID_342687407.ipynb\n"
      ],
      "metadata": {
        "colab": {
          "base_uri": "https://localhost:8080/"
        },
        "id": "JbIzZ-VZWP_3",
        "outputId": "47a7ebce-b214-4b41-e2f2-0baeabf1b459"
      },
      "execution_count": 139,
      "outputs": [
        {
          "output_type": "stream",
          "name": "stdout",
          "text": [
            "[NbConvertApp] Converting notebook /content/PS0_PyTorch_basics_2024_Fall_ID_342687407.ipynb to html\n",
            "[NbConvertApp] WARNING | Alternative text is missing on 1 image(s).\n",
            "[NbConvertApp] Writing 456568 bytes to /content/PS0_PyTorch_basics_2024_Fall_ID_342687407.html\n"
          ]
        }
      ]
    }
  ],
  "metadata": {
    "colab": {
      "provenance": []
    },
    "kernelspec": {
      "display_name": "Python 3",
      "name": "python3"
    },
    "language_info": {
      "name": "python"
    }
  },
  "nbformat": 4,
  "nbformat_minor": 0
}